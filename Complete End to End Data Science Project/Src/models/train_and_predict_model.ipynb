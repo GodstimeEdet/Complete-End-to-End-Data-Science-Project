{
 "cells": [
  {
   "cell_type": "markdown",
   "id": "8138c072",
   "metadata": {},
   "source": [
    "**COMPANY:** INX FUTURE INC | EMPLOYEE PERFORMANCE ANALYSIS\n",
    "\n",
    "**BUISNESS CASE:** THE AIM IS TO PREDICT PREDICT THE PERFORMANCE RATING OF EMPLOYEES BASED ON THE PROVIDED DATASET FEATURES\n"
   ]
  },
  {
   "cell_type": "markdown",
   "id": "43e803eb",
   "metadata": {},
   "source": [
    "#### MODEL CREATION & EVALUATION SUMMARY:\n",
    "* Loading pre-process data\n",
    "* Define dependant & independant features\n",
    "* Balancing the target feature\n",
    "* Split training and testing data\n",
    "* Model creation, prediction & evaluation\n",
    "* Save the Model"
   ]
  },
  {
   "cell_type": "markdown",
   "id": "fe8f9878",
   "metadata": {},
   "source": [
    "### IMPORT NECESSARY LIBRARY"
   ]
  },
  {
   "cell_type": "code",
   "execution_count": 1,
   "id": "20df8165",
   "metadata": {},
   "outputs": [],
   "source": [
    "import pandas as pd\n",
    "import numpy as np\n",
    "import pickle\n",
    "from scipy import stats\n",
    "import xgboost as xgb\n",
    "from sklearn.svm import SVC\n",
    "from collections import Counter\n",
    "from imblearn.over_sampling import SMOTE\n",
    "from sklearn.model_selection import train_test_split\n",
    "from sklearn.model_selection import GridSearchCV\n",
    "from sklearn.neighbors import KNeighborsClassifier\n",
    "from sklearn.ensemble import RandomForestClassifier\n",
    "from sklearn.model_selection import RandomizedSearchCV  \n",
    "from sklearn.neural_network import MLPClassifier\n",
    "from sklearn.ensemble import RandomForestClassifier\n",
    "from sklearn.linear_model import LogisticRegression\n",
    "from sklearn.metrics import accuracy_score,f1_score,recall_score,precision_score,classification_report,confusion_matrix\n",
    "\n",
    "import warnings # Used to supressed the warnings\n",
    "warnings.filterwarnings('ignore')"
   ]
  },
  {
   "cell_type": "markdown",
   "id": "57358d63",
   "metadata": {},
   "source": [
    "### LOADING PREPROCESS DATA"
   ]
  },
  {
   "cell_type": "code",
   "execution_count": 2,
   "id": "0ec4f3a1",
   "metadata": {},
   "outputs": [
    {
     "data": {
      "text/html": [
       "<div>\n",
       "<style scoped>\n",
       "    .dataframe tbody tr th:only-of-type {\n",
       "        vertical-align: middle;\n",
       "    }\n",
       "\n",
       "    .dataframe tbody tr th {\n",
       "        vertical-align: top;\n",
       "    }\n",
       "\n",
       "    .dataframe thead th {\n",
       "        text-align: right;\n",
       "    }\n",
       "</style>\n",
       "<table border=\"1\" class=\"dataframe\">\n",
       "  <thead>\n",
       "    <tr style=\"text-align: right;\">\n",
       "      <th></th>\n",
       "      <th>pca_1</th>\n",
       "      <th>pca_2</th>\n",
       "      <th>pca_3</th>\n",
       "      <th>pca_4</th>\n",
       "      <th>pca_5</th>\n",
       "      <th>pca6_</th>\n",
       "      <th>pca_7</th>\n",
       "      <th>pca_8</th>\n",
       "      <th>pca_9</th>\n",
       "      <th>pca_10</th>\n",
       "      <th>pca_11</th>\n",
       "      <th>pca_12</th>\n",
       "      <th>pca_13</th>\n",
       "      <th>pca_14</th>\n",
       "      <th>pca_15</th>\n",
       "      <th>pca_16</th>\n",
       "      <th>pca_17</th>\n",
       "      <th>pca_18</th>\n",
       "      <th>pca_19</th>\n",
       "      <th>pca_20</th>\n",
       "      <th>pca_21</th>\n",
       "      <th>pca_22</th>\n",
       "      <th>pca_23</th>\n",
       "      <th>pca_24</th>\n",
       "      <th>pca_25</th>\n",
       "      <th>PerformanceRating</th>\n",
       "    </tr>\n",
       "  </thead>\n",
       "  <tbody>\n",
       "    <tr>\n",
       "      <th>0</th>\n",
       "      <td>-4.477633</td>\n",
       "      <td>-1.642226</td>\n",
       "      <td>1.173185</td>\n",
       "      <td>0.937445</td>\n",
       "      <td>-0.928846</td>\n",
       "      <td>1.086699</td>\n",
       "      <td>-0.725968</td>\n",
       "      <td>-1.463533</td>\n",
       "      <td>0.533238</td>\n",
       "      <td>0.398929</td>\n",
       "      <td>-1.235572</td>\n",
       "      <td>0.060502</td>\n",
       "      <td>-0.956449</td>\n",
       "      <td>-0.271149</td>\n",
       "      <td>1.382043</td>\n",
       "      <td>-0.693555</td>\n",
       "      <td>0.899370</td>\n",
       "      <td>0.135094</td>\n",
       "      <td>-0.433316</td>\n",
       "      <td>-0.201212</td>\n",
       "      <td>-0.033544</td>\n",
       "      <td>-0.252475</td>\n",
       "      <td>-0.519519</td>\n",
       "      <td>-0.270948</td>\n",
       "      <td>-0.175873</td>\n",
       "      <td>3</td>\n",
       "    </tr>\n",
       "    <tr>\n",
       "      <th>1</th>\n",
       "      <td>-4.359432</td>\n",
       "      <td>-0.065218</td>\n",
       "      <td>2.224724</td>\n",
       "      <td>1.516933</td>\n",
       "      <td>0.570524</td>\n",
       "      <td>-0.387658</td>\n",
       "      <td>-1.828130</td>\n",
       "      <td>0.085665</td>\n",
       "      <td>0.892809</td>\n",
       "      <td>0.860179</td>\n",
       "      <td>-1.533463</td>\n",
       "      <td>1.367427</td>\n",
       "      <td>0.224679</td>\n",
       "      <td>0.226740</td>\n",
       "      <td>0.339660</td>\n",
       "      <td>-0.273632</td>\n",
       "      <td>0.420230</td>\n",
       "      <td>-0.593152</td>\n",
       "      <td>1.136807</td>\n",
       "      <td>-0.840936</td>\n",
       "      <td>0.170133</td>\n",
       "      <td>-0.422335</td>\n",
       "      <td>-0.631238</td>\n",
       "      <td>0.001879</td>\n",
       "      <td>-0.656028</td>\n",
       "      <td>3</td>\n",
       "    </tr>\n",
       "    <tr>\n",
       "      <th>2</th>\n",
       "      <td>-4.248609</td>\n",
       "      <td>2.515834</td>\n",
       "      <td>4.840761</td>\n",
       "      <td>-0.186649</td>\n",
       "      <td>-1.665545</td>\n",
       "      <td>-0.245296</td>\n",
       "      <td>-0.489322</td>\n",
       "      <td>1.354694</td>\n",
       "      <td>0.514996</td>\n",
       "      <td>1.952407</td>\n",
       "      <td>0.533550</td>\n",
       "      <td>2.272418</td>\n",
       "      <td>-1.206544</td>\n",
       "      <td>0.033911</td>\n",
       "      <td>0.813391</td>\n",
       "      <td>-1.335221</td>\n",
       "      <td>-0.616010</td>\n",
       "      <td>0.483394</td>\n",
       "      <td>0.560300</td>\n",
       "      <td>0.271008</td>\n",
       "      <td>0.147982</td>\n",
       "      <td>0.277786</td>\n",
       "      <td>-0.234783</td>\n",
       "      <td>0.510924</td>\n",
       "      <td>0.738257</td>\n",
       "      <td>4</td>\n",
       "    </tr>\n",
       "    <tr>\n",
       "      <th>3</th>\n",
       "      <td>3.008940</td>\n",
       "      <td>0.739654</td>\n",
       "      <td>2.492356</td>\n",
       "      <td>3.290652</td>\n",
       "      <td>2.444091</td>\n",
       "      <td>1.796594</td>\n",
       "      <td>1.210603</td>\n",
       "      <td>-0.221460</td>\n",
       "      <td>-0.134190</td>\n",
       "      <td>-0.157597</td>\n",
       "      <td>-0.245363</td>\n",
       "      <td>-1.450949</td>\n",
       "      <td>-0.393031</td>\n",
       "      <td>1.304687</td>\n",
       "      <td>0.749247</td>\n",
       "      <td>1.469223</td>\n",
       "      <td>-0.266048</td>\n",
       "      <td>0.889484</td>\n",
       "      <td>-1.077229</td>\n",
       "      <td>-0.835094</td>\n",
       "      <td>1.254525</td>\n",
       "      <td>-0.003715</td>\n",
       "      <td>-0.506591</td>\n",
       "      <td>-0.013664</td>\n",
       "      <td>-0.437799</td>\n",
       "      <td>3</td>\n",
       "    </tr>\n",
       "    <tr>\n",
       "      <th>4</th>\n",
       "      <td>-4.246328</td>\n",
       "      <td>5.990469</td>\n",
       "      <td>-0.153349</td>\n",
       "      <td>0.784594</td>\n",
       "      <td>2.264407</td>\n",
       "      <td>-1.749641</td>\n",
       "      <td>0.507838</td>\n",
       "      <td>-0.524333</td>\n",
       "      <td>0.672134</td>\n",
       "      <td>1.158246</td>\n",
       "      <td>-1.547780</td>\n",
       "      <td>0.217248</td>\n",
       "      <td>-0.734415</td>\n",
       "      <td>-0.048797</td>\n",
       "      <td>-1.487128</td>\n",
       "      <td>0.656833</td>\n",
       "      <td>0.616331</td>\n",
       "      <td>-0.407177</td>\n",
       "      <td>1.018593</td>\n",
       "      <td>-0.127410</td>\n",
       "      <td>-1.252362</td>\n",
       "      <td>0.014501</td>\n",
       "      <td>-0.437993</td>\n",
       "      <td>-0.248946</td>\n",
       "      <td>-0.108599</td>\n",
       "      <td>3</td>\n",
       "    </tr>\n",
       "  </tbody>\n",
       "</table>\n",
       "</div>"
      ],
      "text/plain": [
       "      pca_1     pca_2     pca_3     pca_4     pca_5     pca6_     pca_7  \\\n",
       "0 -4.477633 -1.642226  1.173185  0.937445 -0.928846  1.086699 -0.725968   \n",
       "1 -4.359432 -0.065218  2.224724  1.516933  0.570524 -0.387658 -1.828130   \n",
       "2 -4.248609  2.515834  4.840761 -0.186649 -1.665545 -0.245296 -0.489322   \n",
       "3  3.008940  0.739654  2.492356  3.290652  2.444091  1.796594  1.210603   \n",
       "4 -4.246328  5.990469 -0.153349  0.784594  2.264407 -1.749641  0.507838   \n",
       "\n",
       "      pca_8     pca_9    pca_10    pca_11    pca_12    pca_13    pca_14  \\\n",
       "0 -1.463533  0.533238  0.398929 -1.235572  0.060502 -0.956449 -0.271149   \n",
       "1  0.085665  0.892809  0.860179 -1.533463  1.367427  0.224679  0.226740   \n",
       "2  1.354694  0.514996  1.952407  0.533550  2.272418 -1.206544  0.033911   \n",
       "3 -0.221460 -0.134190 -0.157597 -0.245363 -1.450949 -0.393031  1.304687   \n",
       "4 -0.524333  0.672134  1.158246 -1.547780  0.217248 -0.734415 -0.048797   \n",
       "\n",
       "     pca_15    pca_16    pca_17    pca_18    pca_19    pca_20    pca_21  \\\n",
       "0  1.382043 -0.693555  0.899370  0.135094 -0.433316 -0.201212 -0.033544   \n",
       "1  0.339660 -0.273632  0.420230 -0.593152  1.136807 -0.840936  0.170133   \n",
       "2  0.813391 -1.335221 -0.616010  0.483394  0.560300  0.271008  0.147982   \n",
       "3  0.749247  1.469223 -0.266048  0.889484 -1.077229 -0.835094  1.254525   \n",
       "4 -1.487128  0.656833  0.616331 -0.407177  1.018593 -0.127410 -1.252362   \n",
       "\n",
       "     pca_22    pca_23    pca_24    pca_25  PerformanceRating  \n",
       "0 -0.252475 -0.519519 -0.270948 -0.175873                  3  \n",
       "1 -0.422335 -0.631238  0.001879 -0.656028                  3  \n",
       "2  0.277786 -0.234783  0.510924  0.738257                  4  \n",
       "3 -0.003715 -0.506591 -0.013664 -0.437799                  3  \n",
       "4  0.014501 -0.437993 -0.248946 -0.108599                  3  "
      ]
     },
     "execution_count": 2,
     "metadata": {},
     "output_type": "execute_result"
    }
   ],
   "source": [
    "path2 = \"/Users/mac/Documents/datascienceonecampus/DatamitesTraining/IABAC PROJECT ASSIGNMENT/Employee Performance Analysis/Data/preprocessed_employee_performance_analysis_data.csv\"\n",
    "data = pd.read_csv(path2)\n",
    "pd.set_option('display.max_columns',None) # Used to display the all features\n",
    "data.drop('Unnamed: 0',axis=1,inplace=True) # Drop unwanted feature\n",
    "data.head()"
   ]
  },
  {
   "cell_type": "markdown",
   "id": "4cb03214",
   "metadata": {},
   "source": [
    "### SPLIT THE DATASET INTO INDEPENDANT AND TARGET FEATURES"
   ]
  },
  {
   "cell_type": "code",
   "execution_count": 3,
   "id": "4a81b995",
   "metadata": {},
   "outputs": [],
   "source": [
    "X = data.iloc[:,:-1]\n",
    "y = data.PerformanceRating"
   ]
  },
  {
   "cell_type": "code",
   "execution_count": 4,
   "id": "a82d1a3f",
   "metadata": {},
   "outputs": [
    {
     "data": {
      "text/html": [
       "<div>\n",
       "<style scoped>\n",
       "    .dataframe tbody tr th:only-of-type {\n",
       "        vertical-align: middle;\n",
       "    }\n",
       "\n",
       "    .dataframe tbody tr th {\n",
       "        vertical-align: top;\n",
       "    }\n",
       "\n",
       "    .dataframe thead th {\n",
       "        text-align: right;\n",
       "    }\n",
       "</style>\n",
       "<table border=\"1\" class=\"dataframe\">\n",
       "  <thead>\n",
       "    <tr style=\"text-align: right;\">\n",
       "      <th></th>\n",
       "      <th>pca_1</th>\n",
       "      <th>pca_2</th>\n",
       "      <th>pca_3</th>\n",
       "      <th>pca_4</th>\n",
       "      <th>pca_5</th>\n",
       "      <th>pca6_</th>\n",
       "      <th>pca_7</th>\n",
       "      <th>pca_8</th>\n",
       "      <th>pca_9</th>\n",
       "      <th>pca_10</th>\n",
       "      <th>pca_11</th>\n",
       "      <th>pca_12</th>\n",
       "      <th>pca_13</th>\n",
       "      <th>pca_14</th>\n",
       "      <th>pca_15</th>\n",
       "      <th>pca_16</th>\n",
       "      <th>pca_17</th>\n",
       "      <th>pca_18</th>\n",
       "      <th>pca_19</th>\n",
       "      <th>pca_20</th>\n",
       "      <th>pca_21</th>\n",
       "      <th>pca_22</th>\n",
       "      <th>pca_23</th>\n",
       "      <th>pca_24</th>\n",
       "      <th>pca_25</th>\n",
       "    </tr>\n",
       "  </thead>\n",
       "  <tbody>\n",
       "    <tr>\n",
       "      <th>0</th>\n",
       "      <td>-4.477633</td>\n",
       "      <td>-1.642226</td>\n",
       "      <td>1.173185</td>\n",
       "      <td>0.937445</td>\n",
       "      <td>-0.928846</td>\n",
       "      <td>1.086699</td>\n",
       "      <td>-0.725968</td>\n",
       "      <td>-1.463533</td>\n",
       "      <td>0.533238</td>\n",
       "      <td>0.398929</td>\n",
       "      <td>-1.235572</td>\n",
       "      <td>0.060502</td>\n",
       "      <td>-0.956449</td>\n",
       "      <td>-0.271149</td>\n",
       "      <td>1.382043</td>\n",
       "      <td>-0.693555</td>\n",
       "      <td>0.899370</td>\n",
       "      <td>0.135094</td>\n",
       "      <td>-0.433316</td>\n",
       "      <td>-0.201212</td>\n",
       "      <td>-0.033544</td>\n",
       "      <td>-0.252475</td>\n",
       "      <td>-0.519519</td>\n",
       "      <td>-0.270948</td>\n",
       "      <td>-0.175873</td>\n",
       "    </tr>\n",
       "    <tr>\n",
       "      <th>1</th>\n",
       "      <td>-4.359432</td>\n",
       "      <td>-0.065218</td>\n",
       "      <td>2.224724</td>\n",
       "      <td>1.516933</td>\n",
       "      <td>0.570524</td>\n",
       "      <td>-0.387658</td>\n",
       "      <td>-1.828130</td>\n",
       "      <td>0.085665</td>\n",
       "      <td>0.892809</td>\n",
       "      <td>0.860179</td>\n",
       "      <td>-1.533463</td>\n",
       "      <td>1.367427</td>\n",
       "      <td>0.224679</td>\n",
       "      <td>0.226740</td>\n",
       "      <td>0.339660</td>\n",
       "      <td>-0.273632</td>\n",
       "      <td>0.420230</td>\n",
       "      <td>-0.593152</td>\n",
       "      <td>1.136807</td>\n",
       "      <td>-0.840936</td>\n",
       "      <td>0.170133</td>\n",
       "      <td>-0.422335</td>\n",
       "      <td>-0.631238</td>\n",
       "      <td>0.001879</td>\n",
       "      <td>-0.656028</td>\n",
       "    </tr>\n",
       "    <tr>\n",
       "      <th>2</th>\n",
       "      <td>-4.248609</td>\n",
       "      <td>2.515834</td>\n",
       "      <td>4.840761</td>\n",
       "      <td>-0.186649</td>\n",
       "      <td>-1.665545</td>\n",
       "      <td>-0.245296</td>\n",
       "      <td>-0.489322</td>\n",
       "      <td>1.354694</td>\n",
       "      <td>0.514996</td>\n",
       "      <td>1.952407</td>\n",
       "      <td>0.533550</td>\n",
       "      <td>2.272418</td>\n",
       "      <td>-1.206544</td>\n",
       "      <td>0.033911</td>\n",
       "      <td>0.813391</td>\n",
       "      <td>-1.335221</td>\n",
       "      <td>-0.616010</td>\n",
       "      <td>0.483394</td>\n",
       "      <td>0.560300</td>\n",
       "      <td>0.271008</td>\n",
       "      <td>0.147982</td>\n",
       "      <td>0.277786</td>\n",
       "      <td>-0.234783</td>\n",
       "      <td>0.510924</td>\n",
       "      <td>0.738257</td>\n",
       "    </tr>\n",
       "    <tr>\n",
       "      <th>3</th>\n",
       "      <td>3.008940</td>\n",
       "      <td>0.739654</td>\n",
       "      <td>2.492356</td>\n",
       "      <td>3.290652</td>\n",
       "      <td>2.444091</td>\n",
       "      <td>1.796594</td>\n",
       "      <td>1.210603</td>\n",
       "      <td>-0.221460</td>\n",
       "      <td>-0.134190</td>\n",
       "      <td>-0.157597</td>\n",
       "      <td>-0.245363</td>\n",
       "      <td>-1.450949</td>\n",
       "      <td>-0.393031</td>\n",
       "      <td>1.304687</td>\n",
       "      <td>0.749247</td>\n",
       "      <td>1.469223</td>\n",
       "      <td>-0.266048</td>\n",
       "      <td>0.889484</td>\n",
       "      <td>-1.077229</td>\n",
       "      <td>-0.835094</td>\n",
       "      <td>1.254525</td>\n",
       "      <td>-0.003715</td>\n",
       "      <td>-0.506591</td>\n",
       "      <td>-0.013664</td>\n",
       "      <td>-0.437799</td>\n",
       "    </tr>\n",
       "    <tr>\n",
       "      <th>4</th>\n",
       "      <td>-4.246328</td>\n",
       "      <td>5.990469</td>\n",
       "      <td>-0.153349</td>\n",
       "      <td>0.784594</td>\n",
       "      <td>2.264407</td>\n",
       "      <td>-1.749641</td>\n",
       "      <td>0.507838</td>\n",
       "      <td>-0.524333</td>\n",
       "      <td>0.672134</td>\n",
       "      <td>1.158246</td>\n",
       "      <td>-1.547780</td>\n",
       "      <td>0.217248</td>\n",
       "      <td>-0.734415</td>\n",
       "      <td>-0.048797</td>\n",
       "      <td>-1.487128</td>\n",
       "      <td>0.656833</td>\n",
       "      <td>0.616331</td>\n",
       "      <td>-0.407177</td>\n",
       "      <td>1.018593</td>\n",
       "      <td>-0.127410</td>\n",
       "      <td>-1.252362</td>\n",
       "      <td>0.014501</td>\n",
       "      <td>-0.437993</td>\n",
       "      <td>-0.248946</td>\n",
       "      <td>-0.108599</td>\n",
       "    </tr>\n",
       "  </tbody>\n",
       "</table>\n",
       "</div>"
      ],
      "text/plain": [
       "      pca_1     pca_2     pca_3     pca_4     pca_5     pca6_     pca_7  \\\n",
       "0 -4.477633 -1.642226  1.173185  0.937445 -0.928846  1.086699 -0.725968   \n",
       "1 -4.359432 -0.065218  2.224724  1.516933  0.570524 -0.387658 -1.828130   \n",
       "2 -4.248609  2.515834  4.840761 -0.186649 -1.665545 -0.245296 -0.489322   \n",
       "3  3.008940  0.739654  2.492356  3.290652  2.444091  1.796594  1.210603   \n",
       "4 -4.246328  5.990469 -0.153349  0.784594  2.264407 -1.749641  0.507838   \n",
       "\n",
       "      pca_8     pca_9    pca_10    pca_11    pca_12    pca_13    pca_14  \\\n",
       "0 -1.463533  0.533238  0.398929 -1.235572  0.060502 -0.956449 -0.271149   \n",
       "1  0.085665  0.892809  0.860179 -1.533463  1.367427  0.224679  0.226740   \n",
       "2  1.354694  0.514996  1.952407  0.533550  2.272418 -1.206544  0.033911   \n",
       "3 -0.221460 -0.134190 -0.157597 -0.245363 -1.450949 -0.393031  1.304687   \n",
       "4 -0.524333  0.672134  1.158246 -1.547780  0.217248 -0.734415 -0.048797   \n",
       "\n",
       "     pca_15    pca_16    pca_17    pca_18    pca_19    pca_20    pca_21  \\\n",
       "0  1.382043 -0.693555  0.899370  0.135094 -0.433316 -0.201212 -0.033544   \n",
       "1  0.339660 -0.273632  0.420230 -0.593152  1.136807 -0.840936  0.170133   \n",
       "2  0.813391 -1.335221 -0.616010  0.483394  0.560300  0.271008  0.147982   \n",
       "3  0.749247  1.469223 -0.266048  0.889484 -1.077229 -0.835094  1.254525   \n",
       "4 -1.487128  0.656833  0.616331 -0.407177  1.018593 -0.127410 -1.252362   \n",
       "\n",
       "     pca_22    pca_23    pca_24    pca_25  \n",
       "0 -0.252475 -0.519519 -0.270948 -0.175873  \n",
       "1 -0.422335 -0.631238  0.001879 -0.656028  \n",
       "2  0.277786 -0.234783  0.510924  0.738257  \n",
       "3 -0.003715 -0.506591 -0.013664 -0.437799  \n",
       "4  0.014501 -0.437993 -0.248946 -0.108599  "
      ]
     },
     "execution_count": 4,
     "metadata": {},
     "output_type": "execute_result"
    }
   ],
   "source": [
    "X.head()"
   ]
  },
  {
   "cell_type": "code",
   "execution_count": 5,
   "id": "95feaaa9",
   "metadata": {},
   "outputs": [
    {
     "data": {
      "text/plain": [
       "0    3\n",
       "1    3\n",
       "2    4\n",
       "3    3\n",
       "4    3\n",
       "Name: PerformanceRating, dtype: int64"
      ]
     },
     "execution_count": 5,
     "metadata": {},
     "output_type": "execute_result"
    }
   ],
   "source": [
    "y.head()"
   ]
  },
  {
   "cell_type": "code",
   "execution_count": 6,
   "id": "996005f7",
   "metadata": {},
   "outputs": [
    {
     "data": {
      "text/plain": [
       "(1200, 25)"
      ]
     },
     "execution_count": 6,
     "metadata": {},
     "output_type": "execute_result"
    }
   ],
   "source": [
    "X.shape"
   ]
  },
  {
   "cell_type": "code",
   "execution_count": 7,
   "id": "da9e1a0c",
   "metadata": {},
   "outputs": [
    {
     "data": {
      "text/plain": [
       "(1200,)"
      ]
     },
     "execution_count": 7,
     "metadata": {},
     "output_type": "execute_result"
    }
   ],
   "source": [
    "y.shape"
   ]
  },
  {
   "cell_type": "markdown",
   "id": "e7198675",
   "metadata": {},
   "source": [
    "### BALANCING THE TARGET FEATURE"
   ]
  },
  {
   "cell_type": "markdown",
   "id": "9d92453e",
   "metadata": {},
   "source": [
    "SMOTE: SMOTE (synthetic minority oversampling technique) is one of the most commonly used oversampling methods to solve the imbalance problem. It aims to balance class distribution by randomly increasing minority class examples by replicating them. SMOTE synthesises new minority instances between existing minority instances.\n"
   ]
  },
  {
   "cell_type": "code",
   "execution_count": 8,
   "id": "d21745fa",
   "metadata": {},
   "outputs": [
    {
     "name": "stdout",
     "output_type": "stream",
     "text": [
      "unbalanced data   :   Counter({3: 874, 2: 194, 4: 132})\n",
      "balanced data:    : Counter({3: 874, 4: 874, 2: 874})\n"
     ]
    }
   ],
   "source": [
    "sm = SMOTE() # obeject creation\n",
    "print(\"unbalanced data   :  \",Counter(y))\n",
    "X_sm,y_sm = sm.fit_resample(X,y)\n",
    "print(\"balanced data:    :\",Counter(y_sm))"
   ]
  },
  {
   "cell_type": "markdown",
   "id": "9124d447",
   "metadata": {},
   "source": [
    "* Now target feature in balance"
   ]
  },
  {
   "cell_type": "markdown",
   "id": "edc90022",
   "metadata": {},
   "source": [
    "### SPLIT TRAINING AND TESTING DATA"
   ]
  },
  {
   "cell_type": "code",
   "execution_count": 9,
   "id": "208e9eb1",
   "metadata": {},
   "outputs": [],
   "source": [
    "X_train,X_test,y_train,y_test=train_test_split(X_sm,y_sm,random_state=42,test_size=0.20) # 20% data given to testing"
   ]
  },
  {
   "cell_type": "code",
   "execution_count": 10,
   "id": "8fc0eb7e",
   "metadata": {},
   "outputs": [
    {
     "data": {
      "text/plain": [
       "((2097, 25), (525, 25), (2097,), (525,))"
      ]
     },
     "execution_count": 10,
     "metadata": {},
     "output_type": "execute_result"
    }
   ],
   "source": [
    "# Check shape of train and test\n",
    "X_train.shape, X_test.shape, y_train.shape, y_test.shape"
   ]
  },
  {
   "cell_type": "markdown",
   "id": "36307b17",
   "metadata": {},
   "source": [
    "### MODEL CREATION"
   ]
  },
  {
   "cell_type": "markdown",
   "id": "1a12e288",
   "metadata": {},
   "source": [
    "#### AIM \n",
    "* Create a sweet spot model (Low bias, Low variance)\n",
    "\n",
    "#### HERE WE WILL BE EXPERIMENTING WITH THREE ALGORITHM\n",
    "* Support Vector Machine => Classifier\n",
    "* Logistic Regression\n",
    "* Random Forest\n",
    "* Ada Boost\n",
    "* Artificial Neural Network [MLP Classifier]"
   ]
  },
  {
   "cell_type": "markdown",
   "id": "12f32191",
   "metadata": {},
   "source": [
    "### 1.Support Vector Machine"
   ]
  },
  {
   "cell_type": "code",
   "execution_count": 11,
   "id": "9f772fbc",
   "metadata": {},
   "outputs": [],
   "source": [
    "\n",
    "# Object Creaation\n",
    "svc = SVC()\n",
    "\n",
    "# Fitting training and testing data\n",
    "svc.fit(X_train,y_train)\n",
    "\n",
    "# Prediction on train data\n",
    "svc_train_predict = svc.predict(X_train)\n",
    "\n",
    "# Prediction on test data\n",
    "svc_test_predict = svc.predict(X_test)"
   ]
  },
  {
   "cell_type": "markdown",
   "id": "d5d4f960",
   "metadata": {},
   "source": [
    "#### TRAINING ACCURACY"
   ]
  },
  {
   "cell_type": "code",
   "execution_count": 12,
   "id": "633a2d7e",
   "metadata": {},
   "outputs": [
    {
     "name": "stdout",
     "output_type": "stream",
     "text": [
      "Training accuracy of support vector classifier model 97.04339532665713\n",
      "support vector classifier Classification report: \n",
      "               precision    recall  f1-score   support\n",
      "\n",
      "           2       1.00      0.96      0.98       719\n",
      "           3       0.93      0.98      0.95       667\n",
      "           4       0.98      0.98      0.98       711\n",
      "\n",
      "    accuracy                           0.97      2097\n",
      "   macro avg       0.97      0.97      0.97      2097\n",
      "weighted avg       0.97      0.97      0.97      2097\n",
      "\n"
     ]
    }
   ],
   "source": [
    "svc_train_accuracy = accuracy_score(svc_train_predict,y_train)\n",
    "print(\"Training accuracy of support vector classifier model\",svc_train_accuracy*100)\n",
    "print(\"support vector classifier Classification report: \\n\",classification_report(svc_train_predict,y_train))"
   ]
  },
  {
   "cell_type": "markdown",
   "id": "4234159a",
   "metadata": {},
   "source": [
    "* Support vector classifier perform well on training data"
   ]
  },
  {
   "cell_type": "markdown",
   "id": "b82034b5",
   "metadata": {},
   "source": [
    "#### TESTING ACCURACY"
   ]
  },
  {
   "cell_type": "code",
   "execution_count": 13,
   "id": "cc2c31ab",
   "metadata": {},
   "outputs": [
    {
     "name": "stdout",
     "output_type": "stream",
     "text": [
      "Testing accuracy of support vector classifier model 94.0952380952381\n",
      "support vector classifier Classification report: \n",
      "               precision    recall  f1-score   support\n",
      "\n",
      "           2       0.98      0.93      0.95       194\n",
      "           3       0.86      0.96      0.91       156\n",
      "           4       0.98      0.94      0.96       175\n",
      "\n",
      "    accuracy                           0.94       525\n",
      "   macro avg       0.94      0.94      0.94       525\n",
      "weighted avg       0.94      0.94      0.94       525\n",
      "\n"
     ]
    }
   ],
   "source": [
    "svc_test_accuracy = accuracy_score(svc_test_predict,y_test)\n",
    "print(\"Testing accuracy of support vector classifier model\",svc_test_accuracy*100)\n",
    "print(\"support vector classifier Classification report: \\n\",classification_report(svc_test_predict,y_test))"
   ]
  },
  {
   "cell_type": "code",
   "execution_count": 40,
   "id": "0626aed4",
   "metadata": {},
   "outputs": [
    {
     "data": {
      "text/plain": [
       "array([[180,   4,   0],\n",
       "       [ 14, 149,  10],\n",
       "       [  0,   3, 165]])"
      ]
     },
     "execution_count": 40,
     "metadata": {},
     "output_type": "execute_result"
    }
   ],
   "source": [
    "confusion_matrix(y_test,svc_test_predict)"
   ]
  },
  {
   "cell_type": "markdown",
   "id": "07da7c5d",
   "metadata": {},
   "source": [
    "* In testing score is still lagging so we are going to do hyperparameter tunning with the help of grid search cv"
   ]
  },
  {
   "cell_type": "code",
   "execution_count": 14,
   "id": "10bceaf3",
   "metadata": {},
   "outputs": [
    {
     "name": "stdout",
     "output_type": "stream",
     "text": [
      "Fitting 5 folds for each of 665 candidates, totalling 3325 fits\n",
      "[CV] END .....................C=0.1, gamma=1, random_state=1; total time=   0.2s\n",
      "[CV] END .....................C=0.1, gamma=1, random_state=1; total time=   0.2s\n",
      "[CV] END .....................C=0.1, gamma=1, random_state=1; total time=   0.2s\n",
      "[CV] END .....................C=0.1, gamma=1, random_state=1; total time=   0.2s\n",
      "[CV] END .....................C=0.1, gamma=1, random_state=1; total time=   0.2s\n",
      "[CV] END .....................C=0.1, gamma=1, random_state=2; total time=   0.2s\n",
      "[CV] END .....................C=0.1, gamma=1, random_state=2; total time=   0.2s\n",
      "[CV] END .....................C=0.1, gamma=1, random_state=2; total time=   0.2s\n",
      "[CV] END .....................C=0.1, gamma=1, random_state=2; total time=   0.2s\n",
      "[CV] END .....................C=0.1, gamma=1, random_state=2; total time=   0.2s\n",
      "[CV] END .....................C=0.1, gamma=1, random_state=3; total time=   0.2s\n",
      "[CV] END .....................C=0.1, gamma=1, random_state=3; total time=   0.2s\n",
      "[CV] END .....................C=0.1, gamma=1, random_state=3; total time=   0.2s\n",
      "[CV] END .....................C=0.1, gamma=1, random_state=3; total time=   0.2s\n",
      "[CV] END .....................C=0.1, gamma=1, random_state=3; total time=   0.2s\n",
      "[CV] END .....................C=0.1, gamma=1, random_state=4; total time=   0.2s\n",
      "[CV] END .....................C=0.1, gamma=1, random_state=4; total time=   0.2s\n",
      "[CV] END .....................C=0.1, gamma=1, random_state=4; total time=   0.2s\n",
      "[CV] END .....................C=0.1, gamma=1, random_state=4; total time=   0.2s\n",
      "[CV] END .....................C=0.1, gamma=1, random_state=4; total time=   0.2s\n",
      "[CV] END .....................C=0.1, gamma=1, random_state=5; total time=   0.2s\n",
      "[CV] END .....................C=0.1, gamma=1, random_state=5; total time=   0.2s\n",
      "[CV] END .....................C=0.1, gamma=1, random_state=5; total time=   0.3s\n",
      "[CV] END .....................C=0.1, gamma=1, random_state=5; total time=   0.2s\n",
      "[CV] END .....................C=0.1, gamma=1, random_state=5; total time=   0.2s\n",
      "[CV] END .....................C=0.1, gamma=1, random_state=6; total time=   0.3s\n",
      "[CV] END .....................C=0.1, gamma=1, random_state=6; total time=   0.2s\n",
      "[CV] END .....................C=0.1, gamma=1, random_state=6; total time=   0.3s\n",
      "[CV] END .....................C=0.1, gamma=1, random_state=6; total time=   0.2s\n",
      "[CV] END .....................C=0.1, gamma=1, random_state=6; total time=   0.2s\n",
      "[CV] END .....................C=0.1, gamma=1, random_state=7; total time=   0.3s\n",
      "[CV] END .....................C=0.1, gamma=1, random_state=7; total time=   0.2s\n",
      "[CV] END .....................C=0.1, gamma=1, random_state=7; total time=   0.2s\n",
      "[CV] END .....................C=0.1, gamma=1, random_state=7; total time=   0.2s\n",
      "[CV] END .....................C=0.1, gamma=1, random_state=7; total time=   0.3s\n",
      "[CV] END .....................C=0.1, gamma=1, random_state=8; total time=   0.3s\n",
      "[CV] END .....................C=0.1, gamma=1, random_state=8; total time=   0.3s\n",
      "[CV] END .....................C=0.1, gamma=1, random_state=8; total time=   0.3s\n",
      "[CV] END .....................C=0.1, gamma=1, random_state=8; total time=   0.2s\n",
      "[CV] END .....................C=0.1, gamma=1, random_state=8; total time=   0.2s\n",
      "[CV] END .....................C=0.1, gamma=1, random_state=9; total time=   0.2s\n",
      "[CV] END .....................C=0.1, gamma=1, random_state=9; total time=   0.2s\n",
      "[CV] END .....................C=0.1, gamma=1, random_state=9; total time=   0.2s\n",
      "[CV] END .....................C=0.1, gamma=1, random_state=9; total time=   0.2s\n",
      "[CV] END .....................C=0.1, gamma=1, random_state=9; total time=   0.2s\n",
      "[CV] END ....................C=0.1, gamma=1, random_state=10; total time=   0.2s\n",
      "[CV] END ....................C=0.1, gamma=1, random_state=10; total time=   0.2s\n",
      "[CV] END ....................C=0.1, gamma=1, random_state=10; total time=   0.2s\n",
      "[CV] END ....................C=0.1, gamma=1, random_state=10; total time=   0.2s\n",
      "[CV] END ....................C=0.1, gamma=1, random_state=10; total time=   0.2s\n",
      "[CV] END ....................C=0.1, gamma=1, random_state=11; total time=   0.2s\n",
      "[CV] END ....................C=0.1, gamma=1, random_state=11; total time=   0.3s\n",
      "[CV] END ....................C=0.1, gamma=1, random_state=11; total time=   0.3s\n",
      "[CV] END ....................C=0.1, gamma=1, random_state=11; total time=   0.3s\n",
      "[CV] END ....................C=0.1, gamma=1, random_state=11; total time=   0.2s\n",
      "[CV] END ....................C=0.1, gamma=1, random_state=12; total time=   0.2s\n",
      "[CV] END ....................C=0.1, gamma=1, random_state=12; total time=   0.2s\n",
      "[CV] END ....................C=0.1, gamma=1, random_state=12; total time=   0.2s\n",
      "[CV] END ....................C=0.1, gamma=1, random_state=12; total time=   0.2s\n",
      "[CV] END ....................C=0.1, gamma=1, random_state=12; total time=   0.3s\n",
      "[CV] END ....................C=0.1, gamma=1, random_state=13; total time=   0.2s\n",
      "[CV] END ....................C=0.1, gamma=1, random_state=13; total time=   0.2s\n",
      "[CV] END ....................C=0.1, gamma=1, random_state=13; total time=   0.2s\n",
      "[CV] END ....................C=0.1, gamma=1, random_state=13; total time=   0.2s\n",
      "[CV] END ....................C=0.1, gamma=1, random_state=13; total time=   0.2s\n",
      "[CV] END ....................C=0.1, gamma=1, random_state=14; total time=   0.2s\n",
      "[CV] END ....................C=0.1, gamma=1, random_state=14; total time=   0.2s\n",
      "[CV] END ....................C=0.1, gamma=1, random_state=14; total time=   0.2s\n",
      "[CV] END ....................C=0.1, gamma=1, random_state=14; total time=   0.2s\n",
      "[CV] END ....................C=0.1, gamma=1, random_state=14; total time=   0.2s\n",
      "[CV] END ....................C=0.1, gamma=1, random_state=15; total time=   0.2s\n",
      "[CV] END ....................C=0.1, gamma=1, random_state=15; total time=   0.3s\n",
      "[CV] END ....................C=0.1, gamma=1, random_state=15; total time=   0.2s\n",
      "[CV] END ....................C=0.1, gamma=1, random_state=15; total time=   0.3s\n",
      "[CV] END ....................C=0.1, gamma=1, random_state=15; total time=   0.2s\n",
      "[CV] END ....................C=0.1, gamma=1, random_state=16; total time=   0.2s\n",
      "[CV] END ....................C=0.1, gamma=1, random_state=16; total time=   0.2s\n",
      "[CV] END ....................C=0.1, gamma=1, random_state=16; total time=   0.2s\n",
      "[CV] END ....................C=0.1, gamma=1, random_state=16; total time=   0.2s\n",
      "[CV] END ....................C=0.1, gamma=1, random_state=16; total time=   0.2s\n",
      "[CV] END ....................C=0.1, gamma=1, random_state=17; total time=   0.2s\n",
      "[CV] END ....................C=0.1, gamma=1, random_state=17; total time=   0.2s\n",
      "[CV] END ....................C=0.1, gamma=1, random_state=17; total time=   0.2s\n",
      "[CV] END ....................C=0.1, gamma=1, random_state=17; total time=   0.2s\n",
      "[CV] END ....................C=0.1, gamma=1, random_state=17; total time=   0.2s\n",
      "[CV] END ....................C=0.1, gamma=1, random_state=18; total time=   0.2s\n",
      "[CV] END ....................C=0.1, gamma=1, random_state=18; total time=   0.2s\n",
      "[CV] END ....................C=0.1, gamma=1, random_state=18; total time=   0.2s\n",
      "[CV] END ....................C=0.1, gamma=1, random_state=18; total time=   0.2s\n",
      "[CV] END ....................C=0.1, gamma=1, random_state=18; total time=   0.2s\n",
      "[CV] END ....................C=0.1, gamma=1, random_state=19; total time=   0.3s\n",
      "[CV] END ....................C=0.1, gamma=1, random_state=19; total time=   0.2s\n",
      "[CV] END ....................C=0.1, gamma=1, random_state=19; total time=   0.2s\n",
      "[CV] END ....................C=0.1, gamma=1, random_state=19; total time=   0.2s\n",
      "[CV] END ....................C=0.1, gamma=1, random_state=19; total time=   0.3s\n",
      "[CV] END ...................C=0.1, gamma=0.1, random_state=1; total time=   0.2s\n",
      "[CV] END ...................C=0.1, gamma=0.1, random_state=1; total time=   0.2s\n",
      "[CV] END ...................C=0.1, gamma=0.1, random_state=1; total time=   0.1s\n",
      "[CV] END ...................C=0.1, gamma=0.1, random_state=1; total time=   0.1s\n",
      "[CV] END ...................C=0.1, gamma=0.1, random_state=1; total time=   0.1s\n",
      "[CV] END ...................C=0.1, gamma=0.1, random_state=2; total time=   0.1s\n",
      "[CV] END ...................C=0.1, gamma=0.1, random_state=2; total time=   0.1s\n"
     ]
    },
    {
     "name": "stdout",
     "output_type": "stream",
     "text": [
      "[CV] END ...................C=0.1, gamma=0.1, random_state=2; total time=   0.1s\n",
      "[CV] END ...................C=0.1, gamma=0.1, random_state=2; total time=   0.1s\n",
      "[CV] END ...................C=0.1, gamma=0.1, random_state=2; total time=   0.1s\n",
      "[CV] END ...................C=0.1, gamma=0.1, random_state=3; total time=   0.1s\n",
      "[CV] END ...................C=0.1, gamma=0.1, random_state=3; total time=   0.1s\n",
      "[CV] END ...................C=0.1, gamma=0.1, random_state=3; total time=   0.1s\n",
      "[CV] END ...................C=0.1, gamma=0.1, random_state=3; total time=   0.2s\n",
      "[CV] END ...................C=0.1, gamma=0.1, random_state=3; total time=   0.1s\n",
      "[CV] END ...................C=0.1, gamma=0.1, random_state=4; total time=   0.1s\n",
      "[CV] END ...................C=0.1, gamma=0.1, random_state=4; total time=   0.1s\n",
      "[CV] END ...................C=0.1, gamma=0.1, random_state=4; total time=   0.1s\n",
      "[CV] END ...................C=0.1, gamma=0.1, random_state=4; total time=   0.1s\n",
      "[CV] END ...................C=0.1, gamma=0.1, random_state=4; total time=   0.1s\n",
      "[CV] END ...................C=0.1, gamma=0.1, random_state=5; total time=   0.1s\n",
      "[CV] END ...................C=0.1, gamma=0.1, random_state=5; total time=   0.1s\n",
      "[CV] END ...................C=0.1, gamma=0.1, random_state=5; total time=   0.1s\n",
      "[CV] END ...................C=0.1, gamma=0.1, random_state=5; total time=   0.1s\n",
      "[CV] END ...................C=0.1, gamma=0.1, random_state=5; total time=   0.1s\n",
      "[CV] END ...................C=0.1, gamma=0.1, random_state=6; total time=   0.1s\n",
      "[CV] END ...................C=0.1, gamma=0.1, random_state=6; total time=   0.1s\n",
      "[CV] END ...................C=0.1, gamma=0.1, random_state=6; total time=   0.1s\n",
      "[CV] END ...................C=0.1, gamma=0.1, random_state=6; total time=   0.1s\n",
      "[CV] END ...................C=0.1, gamma=0.1, random_state=6; total time=   0.1s\n",
      "[CV] END ...................C=0.1, gamma=0.1, random_state=7; total time=   0.1s\n",
      "[CV] END ...................C=0.1, gamma=0.1, random_state=7; total time=   0.1s\n",
      "[CV] END ...................C=0.1, gamma=0.1, random_state=7; total time=   0.1s\n",
      "[CV] END ...................C=0.1, gamma=0.1, random_state=7; total time=   0.1s\n",
      "[CV] END ...................C=0.1, gamma=0.1, random_state=7; total time=   0.1s\n",
      "[CV] END ...................C=0.1, gamma=0.1, random_state=8; total time=   0.1s\n",
      "[CV] END ...................C=0.1, gamma=0.1, random_state=8; total time=   0.2s\n",
      "[CV] END ...................C=0.1, gamma=0.1, random_state=8; total time=   0.1s\n",
      "[CV] END ...................C=0.1, gamma=0.1, random_state=8; total time=   0.1s\n",
      "[CV] END ...................C=0.1, gamma=0.1, random_state=8; total time=   0.2s\n",
      "[CV] END ...................C=0.1, gamma=0.1, random_state=9; total time=   0.2s\n",
      "[CV] END ...................C=0.1, gamma=0.1, random_state=9; total time=   0.2s\n",
      "[CV] END ...................C=0.1, gamma=0.1, random_state=9; total time=   0.1s\n",
      "[CV] END ...................C=0.1, gamma=0.1, random_state=9; total time=   0.1s\n",
      "[CV] END ...................C=0.1, gamma=0.1, random_state=9; total time=   0.2s\n",
      "[CV] END ..................C=0.1, gamma=0.1, random_state=10; total time=   0.2s\n",
      "[CV] END ..................C=0.1, gamma=0.1, random_state=10; total time=   0.2s\n",
      "[CV] END ..................C=0.1, gamma=0.1, random_state=10; total time=   0.2s\n",
      "[CV] END ..................C=0.1, gamma=0.1, random_state=10; total time=   0.1s\n",
      "[CV] END ..................C=0.1, gamma=0.1, random_state=10; total time=   0.1s\n",
      "[CV] END ..................C=0.1, gamma=0.1, random_state=11; total time=   0.1s\n",
      "[CV] END ..................C=0.1, gamma=0.1, random_state=11; total time=   0.1s\n",
      "[CV] END ..................C=0.1, gamma=0.1, random_state=11; total time=   0.1s\n",
      "[CV] END ..................C=0.1, gamma=0.1, random_state=11; total time=   0.1s\n",
      "[CV] END ..................C=0.1, gamma=0.1, random_state=11; total time=   0.1s\n",
      "[CV] END ..................C=0.1, gamma=0.1, random_state=12; total time=   0.1s\n",
      "[CV] END ..................C=0.1, gamma=0.1, random_state=12; total time=   0.1s\n",
      "[CV] END ..................C=0.1, gamma=0.1, random_state=12; total time=   0.2s\n",
      "[CV] END ..................C=0.1, gamma=0.1, random_state=12; total time=   0.1s\n",
      "[CV] END ..................C=0.1, gamma=0.1, random_state=12; total time=   0.1s\n",
      "[CV] END ..................C=0.1, gamma=0.1, random_state=13; total time=   0.2s\n",
      "[CV] END ..................C=0.1, gamma=0.1, random_state=13; total time=   0.2s\n",
      "[CV] END ..................C=0.1, gamma=0.1, random_state=13; total time=   0.2s\n",
      "[CV] END ..................C=0.1, gamma=0.1, random_state=13; total time=   0.1s\n",
      "[CV] END ..................C=0.1, gamma=0.1, random_state=13; total time=   0.1s\n",
      "[CV] END ..................C=0.1, gamma=0.1, random_state=14; total time=   0.2s\n",
      "[CV] END ..................C=0.1, gamma=0.1, random_state=14; total time=   0.2s\n",
      "[CV] END ..................C=0.1, gamma=0.1, random_state=14; total time=   0.2s\n",
      "[CV] END ..................C=0.1, gamma=0.1, random_state=14; total time=   0.2s\n",
      "[CV] END ..................C=0.1, gamma=0.1, random_state=14; total time=   0.2s\n",
      "[CV] END ..................C=0.1, gamma=0.1, random_state=15; total time=   0.2s\n",
      "[CV] END ..................C=0.1, gamma=0.1, random_state=15; total time=   0.2s\n",
      "[CV] END ..................C=0.1, gamma=0.1, random_state=15; total time=   0.1s\n",
      "[CV] END ..................C=0.1, gamma=0.1, random_state=15; total time=   0.1s\n",
      "[CV] END ..................C=0.1, gamma=0.1, random_state=15; total time=   0.1s\n",
      "[CV] END ..................C=0.1, gamma=0.1, random_state=16; total time=   0.2s\n",
      "[CV] END ..................C=0.1, gamma=0.1, random_state=16; total time=   0.2s\n",
      "[CV] END ..................C=0.1, gamma=0.1, random_state=16; total time=   0.2s\n",
      "[CV] END ..................C=0.1, gamma=0.1, random_state=16; total time=   0.2s\n",
      "[CV] END ..................C=0.1, gamma=0.1, random_state=16; total time=   0.2s\n",
      "[CV] END ..................C=0.1, gamma=0.1, random_state=17; total time=   0.2s\n",
      "[CV] END ..................C=0.1, gamma=0.1, random_state=17; total time=   0.2s\n",
      "[CV] END ..................C=0.1, gamma=0.1, random_state=17; total time=   0.1s\n",
      "[CV] END ..................C=0.1, gamma=0.1, random_state=17; total time=   0.2s\n",
      "[CV] END ..................C=0.1, gamma=0.1, random_state=17; total time=   0.2s\n",
      "[CV] END ..................C=0.1, gamma=0.1, random_state=18; total time=   0.2s\n",
      "[CV] END ..................C=0.1, gamma=0.1, random_state=18; total time=   0.2s\n",
      "[CV] END ..................C=0.1, gamma=0.1, random_state=18; total time=   0.2s\n",
      "[CV] END ..................C=0.1, gamma=0.1, random_state=18; total time=   0.2s\n",
      "[CV] END ..................C=0.1, gamma=0.1, random_state=18; total time=   0.2s\n",
      "[CV] END ..................C=0.1, gamma=0.1, random_state=19; total time=   0.2s\n",
      "[CV] END ..................C=0.1, gamma=0.1, random_state=19; total time=   0.2s\n",
      "[CV] END ..................C=0.1, gamma=0.1, random_state=19; total time=   0.1s\n",
      "[CV] END ..................C=0.1, gamma=0.1, random_state=19; total time=   0.1s\n",
      "[CV] END ..................C=0.1, gamma=0.1, random_state=19; total time=   0.2s\n",
      "[CV] END .................C=0.1, gamma=0.001, random_state=1; total time=   0.1s\n",
      "[CV] END .................C=0.1, gamma=0.001, random_state=1; total time=   0.1s\n",
      "[CV] END .................C=0.1, gamma=0.001, random_state=1; total time=   0.1s\n",
      "[CV] END .................C=0.1, gamma=0.001, random_state=1; total time=   0.1s\n",
      "[CV] END .................C=0.1, gamma=0.001, random_state=1; total time=   0.1s\n",
      "[CV] END .................C=0.1, gamma=0.001, random_state=2; total time=   0.1s\n",
      "[CV] END .................C=0.1, gamma=0.001, random_state=2; total time=   0.1s\n",
      "[CV] END .................C=0.1, gamma=0.001, random_state=2; total time=   0.1s\n",
      "[CV] END .................C=0.1, gamma=0.001, random_state=2; total time=   0.1s\n",
      "[CV] END .................C=0.1, gamma=0.001, random_state=2; total time=   0.1s\n",
      "[CV] END .................C=0.1, gamma=0.001, random_state=3; total time=   0.1s\n",
      "[CV] END .................C=0.1, gamma=0.001, random_state=3; total time=   0.1s\n",
      "[CV] END .................C=0.1, gamma=0.001, random_state=3; total time=   0.1s\n",
      "[CV] END .................C=0.1, gamma=0.001, random_state=3; total time=   0.1s\n",
      "[CV] END .................C=0.1, gamma=0.001, random_state=3; total time=   0.1s\n"
     ]
    },
    {
     "name": "stdout",
     "output_type": "stream",
     "text": [
      "[CV] END .................C=0.1, gamma=0.001, random_state=4; total time=   0.1s\n",
      "[CV] END .................C=0.1, gamma=0.001, random_state=4; total time=   0.1s\n",
      "[CV] END .................C=0.1, gamma=0.001, random_state=4; total time=   0.1s\n",
      "[CV] END .................C=0.1, gamma=0.001, random_state=4; total time=   0.1s\n",
      "[CV] END .................C=0.1, gamma=0.001, random_state=4; total time=   0.1s\n",
      "[CV] END .................C=0.1, gamma=0.001, random_state=5; total time=   0.1s\n",
      "[CV] END .................C=0.1, gamma=0.001, random_state=5; total time=   0.1s\n",
      "[CV] END .................C=0.1, gamma=0.001, random_state=5; total time=   0.1s\n",
      "[CV] END .................C=0.1, gamma=0.001, random_state=5; total time=   0.1s\n",
      "[CV] END .................C=0.1, gamma=0.001, random_state=5; total time=   0.1s\n",
      "[CV] END .................C=0.1, gamma=0.001, random_state=6; total time=   0.1s\n",
      "[CV] END .................C=0.1, gamma=0.001, random_state=6; total time=   0.1s\n",
      "[CV] END .................C=0.1, gamma=0.001, random_state=6; total time=   0.1s\n",
      "[CV] END .................C=0.1, gamma=0.001, random_state=6; total time=   0.1s\n",
      "[CV] END .................C=0.1, gamma=0.001, random_state=6; total time=   0.1s\n",
      "[CV] END .................C=0.1, gamma=0.001, random_state=7; total time=   0.1s\n",
      "[CV] END .................C=0.1, gamma=0.001, random_state=7; total time=   0.1s\n",
      "[CV] END .................C=0.1, gamma=0.001, random_state=7; total time=   0.1s\n",
      "[CV] END .................C=0.1, gamma=0.001, random_state=7; total time=   0.1s\n",
      "[CV] END .................C=0.1, gamma=0.001, random_state=7; total time=   0.1s\n",
      "[CV] END .................C=0.1, gamma=0.001, random_state=8; total time=   0.1s\n",
      "[CV] END .................C=0.1, gamma=0.001, random_state=8; total time=   0.1s\n",
      "[CV] END .................C=0.1, gamma=0.001, random_state=8; total time=   0.1s\n",
      "[CV] END .................C=0.1, gamma=0.001, random_state=8; total time=   0.1s\n",
      "[CV] END .................C=0.1, gamma=0.001, random_state=8; total time=   0.1s\n",
      "[CV] END .................C=0.1, gamma=0.001, random_state=9; total time=   0.1s\n",
      "[CV] END .................C=0.1, gamma=0.001, random_state=9; total time=   0.1s\n",
      "[CV] END .................C=0.1, gamma=0.001, random_state=9; total time=   0.1s\n",
      "[CV] END .................C=0.1, gamma=0.001, random_state=9; total time=   0.1s\n",
      "[CV] END .................C=0.1, gamma=0.001, random_state=9; total time=   0.1s\n",
      "[CV] END ................C=0.1, gamma=0.001, random_state=10; total time=   0.1s\n",
      "[CV] END ................C=0.1, gamma=0.001, random_state=10; total time=   0.1s\n",
      "[CV] END ................C=0.1, gamma=0.001, random_state=10; total time=   0.1s\n",
      "[CV] END ................C=0.1, gamma=0.001, random_state=10; total time=   0.1s\n",
      "[CV] END ................C=0.1, gamma=0.001, random_state=10; total time=   0.1s\n",
      "[CV] END ................C=0.1, gamma=0.001, random_state=11; total time=   0.1s\n",
      "[CV] END ................C=0.1, gamma=0.001, random_state=11; total time=   0.1s\n",
      "[CV] END ................C=0.1, gamma=0.001, random_state=11; total time=   0.1s\n",
      "[CV] END ................C=0.1, gamma=0.001, random_state=11; total time=   0.1s\n",
      "[CV] END ................C=0.1, gamma=0.001, random_state=11; total time=   0.1s\n",
      "[CV] END ................C=0.1, gamma=0.001, random_state=12; total time=   0.1s\n",
      "[CV] END ................C=0.1, gamma=0.001, random_state=12; total time=   0.1s\n",
      "[CV] END ................C=0.1, gamma=0.001, random_state=12; total time=   0.1s\n",
      "[CV] END ................C=0.1, gamma=0.001, random_state=12; total time=   0.1s\n",
      "[CV] END ................C=0.1, gamma=0.001, random_state=12; total time=   0.1s\n",
      "[CV] END ................C=0.1, gamma=0.001, random_state=13; total time=   0.1s\n",
      "[CV] END ................C=0.1, gamma=0.001, random_state=13; total time=   0.1s\n",
      "[CV] END ................C=0.1, gamma=0.001, random_state=13; total time=   0.1s\n",
      "[CV] END ................C=0.1, gamma=0.001, random_state=13; total time=   0.1s\n",
      "[CV] END ................C=0.1, gamma=0.001, random_state=13; total time=   0.1s\n",
      "[CV] END ................C=0.1, gamma=0.001, random_state=14; total time=   0.1s\n",
      "[CV] END ................C=0.1, gamma=0.001, random_state=14; total time=   0.1s\n",
      "[CV] END ................C=0.1, gamma=0.001, random_state=14; total time=   0.1s\n",
      "[CV] END ................C=0.1, gamma=0.001, random_state=14; total time=   0.1s\n",
      "[CV] END ................C=0.1, gamma=0.001, random_state=14; total time=   0.1s\n",
      "[CV] END ................C=0.1, gamma=0.001, random_state=15; total time=   0.1s\n",
      "[CV] END ................C=0.1, gamma=0.001, random_state=15; total time=   0.1s\n",
      "[CV] END ................C=0.1, gamma=0.001, random_state=15; total time=   0.1s\n",
      "[CV] END ................C=0.1, gamma=0.001, random_state=15; total time=   0.1s\n",
      "[CV] END ................C=0.1, gamma=0.001, random_state=15; total time=   0.1s\n",
      "[CV] END ................C=0.1, gamma=0.001, random_state=16; total time=   0.1s\n",
      "[CV] END ................C=0.1, gamma=0.001, random_state=16; total time=   0.1s\n",
      "[CV] END ................C=0.1, gamma=0.001, random_state=16; total time=   0.1s\n",
      "[CV] END ................C=0.1, gamma=0.001, random_state=16; total time=   0.1s\n",
      "[CV] END ................C=0.1, gamma=0.001, random_state=16; total time=   0.1s\n",
      "[CV] END ................C=0.1, gamma=0.001, random_state=17; total time=   0.1s\n",
      "[CV] END ................C=0.1, gamma=0.001, random_state=17; total time=   0.1s\n",
      "[CV] END ................C=0.1, gamma=0.001, random_state=17; total time=   0.1s\n",
      "[CV] END ................C=0.1, gamma=0.001, random_state=17; total time=   0.1s\n",
      "[CV] END ................C=0.1, gamma=0.001, random_state=17; total time=   0.1s\n",
      "[CV] END ................C=0.1, gamma=0.001, random_state=18; total time=   0.1s\n",
      "[CV] END ................C=0.1, gamma=0.001, random_state=18; total time=   0.1s\n",
      "[CV] END ................C=0.1, gamma=0.001, random_state=18; total time=   0.1s\n",
      "[CV] END ................C=0.1, gamma=0.001, random_state=18; total time=   0.1s\n",
      "[CV] END ................C=0.1, gamma=0.001, random_state=18; total time=   0.1s\n",
      "[CV] END ................C=0.1, gamma=0.001, random_state=19; total time=   0.1s\n",
      "[CV] END ................C=0.1, gamma=0.001, random_state=19; total time=   0.1s\n",
      "[CV] END ................C=0.1, gamma=0.001, random_state=19; total time=   0.1s\n",
      "[CV] END ................C=0.1, gamma=0.001, random_state=19; total time=   0.1s\n",
      "[CV] END ................C=0.1, gamma=0.001, random_state=19; total time=   0.1s\n",
      "[CV] END ................C=0.1, gamma=0.0001, random_state=1; total time=   0.1s\n",
      "[CV] END ................C=0.1, gamma=0.0001, random_state=1; total time=   0.1s\n",
      "[CV] END ................C=0.1, gamma=0.0001, random_state=1; total time=   0.1s\n",
      "[CV] END ................C=0.1, gamma=0.0001, random_state=1; total time=   0.1s\n",
      "[CV] END ................C=0.1, gamma=0.0001, random_state=1; total time=   0.1s\n",
      "[CV] END ................C=0.1, gamma=0.0001, random_state=2; total time=   0.1s\n",
      "[CV] END ................C=0.1, gamma=0.0001, random_state=2; total time=   0.1s\n",
      "[CV] END ................C=0.1, gamma=0.0001, random_state=2; total time=   0.1s\n",
      "[CV] END ................C=0.1, gamma=0.0001, random_state=2; total time=   0.1s\n",
      "[CV] END ................C=0.1, gamma=0.0001, random_state=2; total time=   0.1s\n",
      "[CV] END ................C=0.1, gamma=0.0001, random_state=3; total time=   0.1s\n",
      "[CV] END ................C=0.1, gamma=0.0001, random_state=3; total time=   0.1s\n",
      "[CV] END ................C=0.1, gamma=0.0001, random_state=3; total time=   0.1s\n",
      "[CV] END ................C=0.1, gamma=0.0001, random_state=3; total time=   0.1s\n",
      "[CV] END ................C=0.1, gamma=0.0001, random_state=3; total time=   0.1s\n",
      "[CV] END ................C=0.1, gamma=0.0001, random_state=4; total time=   0.1s\n",
      "[CV] END ................C=0.1, gamma=0.0001, random_state=4; total time=   0.1s\n",
      "[CV] END ................C=0.1, gamma=0.0001, random_state=4; total time=   0.1s\n",
      "[CV] END ................C=0.1, gamma=0.0001, random_state=4; total time=   0.1s\n",
      "[CV] END ................C=0.1, gamma=0.0001, random_state=4; total time=   0.1s\n",
      "[CV] END ................C=0.1, gamma=0.0001, random_state=5; total time=   0.1s\n",
      "[CV] END ................C=0.1, gamma=0.0001, random_state=5; total time=   0.1s\n"
     ]
    },
    {
     "name": "stdout",
     "output_type": "stream",
     "text": [
      "[CV] END ................C=0.1, gamma=0.0001, random_state=5; total time=   0.1s\n",
      "[CV] END ................C=0.1, gamma=0.0001, random_state=5; total time=   0.1s\n",
      "[CV] END ................C=0.1, gamma=0.0001, random_state=5; total time=   0.1s\n",
      "[CV] END ................C=0.1, gamma=0.0001, random_state=6; total time=   0.1s\n",
      "[CV] END ................C=0.1, gamma=0.0001, random_state=6; total time=   0.1s\n",
      "[CV] END ................C=0.1, gamma=0.0001, random_state=6; total time=   0.1s\n",
      "[CV] END ................C=0.1, gamma=0.0001, random_state=6; total time=   0.1s\n",
      "[CV] END ................C=0.1, gamma=0.0001, random_state=6; total time=   0.1s\n",
      "[CV] END ................C=0.1, gamma=0.0001, random_state=7; total time=   0.1s\n",
      "[CV] END ................C=0.1, gamma=0.0001, random_state=7; total time=   0.1s\n",
      "[CV] END ................C=0.1, gamma=0.0001, random_state=7; total time=   0.1s\n",
      "[CV] END ................C=0.1, gamma=0.0001, random_state=7; total time=   0.1s\n",
      "[CV] END ................C=0.1, gamma=0.0001, random_state=7; total time=   0.1s\n",
      "[CV] END ................C=0.1, gamma=0.0001, random_state=8; total time=   0.1s\n",
      "[CV] END ................C=0.1, gamma=0.0001, random_state=8; total time=   0.1s\n",
      "[CV] END ................C=0.1, gamma=0.0001, random_state=8; total time=   0.1s\n",
      "[CV] END ................C=0.1, gamma=0.0001, random_state=8; total time=   0.1s\n",
      "[CV] END ................C=0.1, gamma=0.0001, random_state=8; total time=   0.5s\n",
      "[CV] END ................C=0.1, gamma=0.0001, random_state=9; total time=   0.2s\n",
      "[CV] END ................C=0.1, gamma=0.0001, random_state=9; total time=   0.4s\n",
      "[CV] END ................C=0.1, gamma=0.0001, random_state=9; total time=   0.1s\n",
      "[CV] END ................C=0.1, gamma=0.0001, random_state=9; total time=   0.2s\n",
      "[CV] END ................C=0.1, gamma=0.0001, random_state=9; total time=   0.1s\n",
      "[CV] END ...............C=0.1, gamma=0.0001, random_state=10; total time=   0.2s\n",
      "[CV] END ...............C=0.1, gamma=0.0001, random_state=10; total time=   0.2s\n",
      "[CV] END ...............C=0.1, gamma=0.0001, random_state=10; total time=   0.1s\n",
      "[CV] END ...............C=0.1, gamma=0.0001, random_state=10; total time=   0.1s\n",
      "[CV] END ...............C=0.1, gamma=0.0001, random_state=10; total time=   0.1s\n",
      "[CV] END ...............C=0.1, gamma=0.0001, random_state=11; total time=   0.1s\n",
      "[CV] END ...............C=0.1, gamma=0.0001, random_state=11; total time=   0.1s\n",
      "[CV] END ...............C=0.1, gamma=0.0001, random_state=11; total time=   0.6s\n",
      "[CV] END ...............C=0.1, gamma=0.0001, random_state=11; total time=   0.4s\n",
      "[CV] END ...............C=0.1, gamma=0.0001, random_state=11; total time=   0.4s\n",
      "[CV] END ...............C=0.1, gamma=0.0001, random_state=12; total time=   0.3s\n",
      "[CV] END ...............C=0.1, gamma=0.0001, random_state=12; total time=   0.1s\n",
      "[CV] END ...............C=0.1, gamma=0.0001, random_state=12; total time=   0.1s\n",
      "[CV] END ...............C=0.1, gamma=0.0001, random_state=12; total time=   0.2s\n",
      "[CV] END ...............C=0.1, gamma=0.0001, random_state=12; total time=   0.1s\n",
      "[CV] END ...............C=0.1, gamma=0.0001, random_state=13; total time=   0.1s\n",
      "[CV] END ...............C=0.1, gamma=0.0001, random_state=13; total time=   0.1s\n",
      "[CV] END ...............C=0.1, gamma=0.0001, random_state=13; total time=   0.1s\n",
      "[CV] END ...............C=0.1, gamma=0.0001, random_state=13; total time=   0.1s\n",
      "[CV] END ...............C=0.1, gamma=0.0001, random_state=13; total time=   0.1s\n",
      "[CV] END ...............C=0.1, gamma=0.0001, random_state=14; total time=   0.1s\n",
      "[CV] END ...............C=0.1, gamma=0.0001, random_state=14; total time=   0.1s\n",
      "[CV] END ...............C=0.1, gamma=0.0001, random_state=14; total time=   0.1s\n",
      "[CV] END ...............C=0.1, gamma=0.0001, random_state=14; total time=   0.1s\n",
      "[CV] END ...............C=0.1, gamma=0.0001, random_state=14; total time=   0.1s\n",
      "[CV] END ...............C=0.1, gamma=0.0001, random_state=15; total time=   0.1s\n",
      "[CV] END ...............C=0.1, gamma=0.0001, random_state=15; total time=   0.3s\n",
      "[CV] END ...............C=0.1, gamma=0.0001, random_state=15; total time=   0.1s\n",
      "[CV] END ...............C=0.1, gamma=0.0001, random_state=15; total time=   0.1s\n",
      "[CV] END ...............C=0.1, gamma=0.0001, random_state=15; total time=   0.1s\n",
      "[CV] END ...............C=0.1, gamma=0.0001, random_state=16; total time=   0.1s\n",
      "[CV] END ...............C=0.1, gamma=0.0001, random_state=16; total time=   0.1s\n",
      "[CV] END ...............C=0.1, gamma=0.0001, random_state=16; total time=   0.1s\n",
      "[CV] END ...............C=0.1, gamma=0.0001, random_state=16; total time=   0.1s\n",
      "[CV] END ...............C=0.1, gamma=0.0001, random_state=16; total time=   0.1s\n",
      "[CV] END ...............C=0.1, gamma=0.0001, random_state=17; total time=   0.1s\n",
      "[CV] END ...............C=0.1, gamma=0.0001, random_state=17; total time=   0.4s\n",
      "[CV] END ...............C=0.1, gamma=0.0001, random_state=17; total time=   0.1s\n",
      "[CV] END ...............C=0.1, gamma=0.0001, random_state=17; total time=   0.2s\n",
      "[CV] END ...............C=0.1, gamma=0.0001, random_state=17; total time=   0.2s\n",
      "[CV] END ...............C=0.1, gamma=0.0001, random_state=18; total time=   0.1s\n",
      "[CV] END ...............C=0.1, gamma=0.0001, random_state=18; total time=   0.3s\n",
      "[CV] END ...............C=0.1, gamma=0.0001, random_state=18; total time=   0.2s\n",
      "[CV] END ...............C=0.1, gamma=0.0001, random_state=18; total time=   0.1s\n",
      "[CV] END ...............C=0.1, gamma=0.0001, random_state=18; total time=   0.1s\n",
      "[CV] END ...............C=0.1, gamma=0.0001, random_state=19; total time=   0.2s\n",
      "[CV] END ...............C=0.1, gamma=0.0001, random_state=19; total time=   0.1s\n",
      "[CV] END ...............C=0.1, gamma=0.0001, random_state=19; total time=   0.1s\n",
      "[CV] END ...............C=0.1, gamma=0.0001, random_state=19; total time=   0.2s\n",
      "[CV] END ...............C=0.1, gamma=0.0001, random_state=19; total time=   0.1s\n",
      "[CV] END .................C=0.1, gamma=1e-05, random_state=1; total time=   0.1s\n",
      "[CV] END .................C=0.1, gamma=1e-05, random_state=1; total time=   0.1s\n",
      "[CV] END .................C=0.1, gamma=1e-05, random_state=1; total time=   0.1s\n",
      "[CV] END .................C=0.1, gamma=1e-05, random_state=1; total time=   0.3s\n",
      "[CV] END .................C=0.1, gamma=1e-05, random_state=1; total time=   0.2s\n",
      "[CV] END .................C=0.1, gamma=1e-05, random_state=2; total time=   0.1s\n",
      "[CV] END .................C=0.1, gamma=1e-05, random_state=2; total time=   0.1s\n",
      "[CV] END .................C=0.1, gamma=1e-05, random_state=2; total time=   0.1s\n",
      "[CV] END .................C=0.1, gamma=1e-05, random_state=2; total time=   0.2s\n",
      "[CV] END .................C=0.1, gamma=1e-05, random_state=2; total time=   0.1s\n",
      "[CV] END .................C=0.1, gamma=1e-05, random_state=3; total time=   0.1s\n",
      "[CV] END .................C=0.1, gamma=1e-05, random_state=3; total time=   0.1s\n",
      "[CV] END .................C=0.1, gamma=1e-05, random_state=3; total time=   0.1s\n",
      "[CV] END .................C=0.1, gamma=1e-05, random_state=3; total time=   0.1s\n",
      "[CV] END .................C=0.1, gamma=1e-05, random_state=3; total time=   0.1s\n",
      "[CV] END .................C=0.1, gamma=1e-05, random_state=4; total time=   0.1s\n",
      "[CV] END .................C=0.1, gamma=1e-05, random_state=4; total time=   0.1s\n",
      "[CV] END .................C=0.1, gamma=1e-05, random_state=4; total time=   0.1s\n",
      "[CV] END .................C=0.1, gamma=1e-05, random_state=4; total time=   0.1s\n",
      "[CV] END .................C=0.1, gamma=1e-05, random_state=4; total time=   0.1s\n",
      "[CV] END .................C=0.1, gamma=1e-05, random_state=5; total time=   0.1s\n",
      "[CV] END .................C=0.1, gamma=1e-05, random_state=5; total time=   0.1s\n",
      "[CV] END .................C=0.1, gamma=1e-05, random_state=5; total time=   0.1s\n",
      "[CV] END .................C=0.1, gamma=1e-05, random_state=5; total time=   0.2s\n",
      "[CV] END .................C=0.1, gamma=1e-05, random_state=5; total time=   0.3s\n",
      "[CV] END .................C=0.1, gamma=1e-05, random_state=6; total time=   0.1s\n",
      "[CV] END .................C=0.1, gamma=1e-05, random_state=6; total time=   0.1s\n",
      "[CV] END .................C=0.1, gamma=1e-05, random_state=6; total time=   0.1s\n",
      "[CV] END .................C=0.1, gamma=1e-05, random_state=6; total time=   0.2s\n"
     ]
    },
    {
     "name": "stdout",
     "output_type": "stream",
     "text": [
      "[CV] END .................C=0.1, gamma=1e-05, random_state=6; total time=   0.2s\n",
      "[CV] END .................C=0.1, gamma=1e-05, random_state=7; total time=   0.2s\n",
      "[CV] END .................C=0.1, gamma=1e-05, random_state=7; total time=   0.2s\n",
      "[CV] END .................C=0.1, gamma=1e-05, random_state=7; total time=   0.1s\n",
      "[CV] END .................C=0.1, gamma=1e-05, random_state=7; total time=   0.1s\n",
      "[CV] END .................C=0.1, gamma=1e-05, random_state=7; total time=   0.1s\n",
      "[CV] END .................C=0.1, gamma=1e-05, random_state=8; total time=   0.1s\n",
      "[CV] END .................C=0.1, gamma=1e-05, random_state=8; total time=   0.1s\n",
      "[CV] END .................C=0.1, gamma=1e-05, random_state=8; total time=   0.1s\n",
      "[CV] END .................C=0.1, gamma=1e-05, random_state=8; total time=   0.1s\n",
      "[CV] END .................C=0.1, gamma=1e-05, random_state=8; total time=   0.1s\n",
      "[CV] END .................C=0.1, gamma=1e-05, random_state=9; total time=   0.1s\n",
      "[CV] END .................C=0.1, gamma=1e-05, random_state=9; total time=   0.1s\n",
      "[CV] END .................C=0.1, gamma=1e-05, random_state=9; total time=   0.1s\n",
      "[CV] END .................C=0.1, gamma=1e-05, random_state=9; total time=   0.1s\n",
      "[CV] END .................C=0.1, gamma=1e-05, random_state=9; total time=   0.1s\n",
      "[CV] END ................C=0.1, gamma=1e-05, random_state=10; total time=   0.1s\n",
      "[CV] END ................C=0.1, gamma=1e-05, random_state=10; total time=   0.1s\n",
      "[CV] END ................C=0.1, gamma=1e-05, random_state=10; total time=   0.1s\n",
      "[CV] END ................C=0.1, gamma=1e-05, random_state=10; total time=   0.1s\n",
      "[CV] END ................C=0.1, gamma=1e-05, random_state=10; total time=   0.1s\n",
      "[CV] END ................C=0.1, gamma=1e-05, random_state=11; total time=   0.1s\n",
      "[CV] END ................C=0.1, gamma=1e-05, random_state=11; total time=   0.1s\n",
      "[CV] END ................C=0.1, gamma=1e-05, random_state=11; total time=   0.1s\n",
      "[CV] END ................C=0.1, gamma=1e-05, random_state=11; total time=   0.1s\n",
      "[CV] END ................C=0.1, gamma=1e-05, random_state=11; total time=   0.1s\n",
      "[CV] END ................C=0.1, gamma=1e-05, random_state=12; total time=   0.1s\n",
      "[CV] END ................C=0.1, gamma=1e-05, random_state=12; total time=   0.1s\n",
      "[CV] END ................C=0.1, gamma=1e-05, random_state=12; total time=   0.1s\n",
      "[CV] END ................C=0.1, gamma=1e-05, random_state=12; total time=   0.1s\n",
      "[CV] END ................C=0.1, gamma=1e-05, random_state=12; total time=   0.1s\n",
      "[CV] END ................C=0.1, gamma=1e-05, random_state=13; total time=   0.1s\n",
      "[CV] END ................C=0.1, gamma=1e-05, random_state=13; total time=   0.1s\n",
      "[CV] END ................C=0.1, gamma=1e-05, random_state=13; total time=   0.2s\n",
      "[CV] END ................C=0.1, gamma=1e-05, random_state=13; total time=   0.1s\n",
      "[CV] END ................C=0.1, gamma=1e-05, random_state=13; total time=   0.2s\n",
      "[CV] END ................C=0.1, gamma=1e-05, random_state=14; total time=   0.1s\n",
      "[CV] END ................C=0.1, gamma=1e-05, random_state=14; total time=   0.1s\n",
      "[CV] END ................C=0.1, gamma=1e-05, random_state=14; total time=   0.1s\n",
      "[CV] END ................C=0.1, gamma=1e-05, random_state=14; total time=   0.1s\n",
      "[CV] END ................C=0.1, gamma=1e-05, random_state=14; total time=   0.1s\n",
      "[CV] END ................C=0.1, gamma=1e-05, random_state=15; total time=   0.1s\n",
      "[CV] END ................C=0.1, gamma=1e-05, random_state=15; total time=   0.1s\n",
      "[CV] END ................C=0.1, gamma=1e-05, random_state=15; total time=   0.1s\n",
      "[CV] END ................C=0.1, gamma=1e-05, random_state=15; total time=   0.1s\n",
      "[CV] END ................C=0.1, gamma=1e-05, random_state=15; total time=   0.1s\n",
      "[CV] END ................C=0.1, gamma=1e-05, random_state=16; total time=   0.1s\n",
      "[CV] END ................C=0.1, gamma=1e-05, random_state=16; total time=   0.1s\n",
      "[CV] END ................C=0.1, gamma=1e-05, random_state=16; total time=   0.1s\n",
      "[CV] END ................C=0.1, gamma=1e-05, random_state=16; total time=   0.1s\n",
      "[CV] END ................C=0.1, gamma=1e-05, random_state=16; total time=   0.1s\n",
      "[CV] END ................C=0.1, gamma=1e-05, random_state=17; total time=   0.1s\n",
      "[CV] END ................C=0.1, gamma=1e-05, random_state=17; total time=   0.1s\n",
      "[CV] END ................C=0.1, gamma=1e-05, random_state=17; total time=   0.1s\n",
      "[CV] END ................C=0.1, gamma=1e-05, random_state=17; total time=   0.1s\n",
      "[CV] END ................C=0.1, gamma=1e-05, random_state=17; total time=   0.1s\n",
      "[CV] END ................C=0.1, gamma=1e-05, random_state=18; total time=   0.1s\n",
      "[CV] END ................C=0.1, gamma=1e-05, random_state=18; total time=   0.1s\n",
      "[CV] END ................C=0.1, gamma=1e-05, random_state=18; total time=   0.1s\n",
      "[CV] END ................C=0.1, gamma=1e-05, random_state=18; total time=   0.1s\n",
      "[CV] END ................C=0.1, gamma=1e-05, random_state=18; total time=   0.1s\n",
      "[CV] END ................C=0.1, gamma=1e-05, random_state=19; total time=   0.1s\n",
      "[CV] END ................C=0.1, gamma=1e-05, random_state=19; total time=   0.1s\n",
      "[CV] END ................C=0.1, gamma=1e-05, random_state=19; total time=   0.1s\n",
      "[CV] END ................C=0.1, gamma=1e-05, random_state=19; total time=   0.1s\n",
      "[CV] END ................C=0.1, gamma=1e-05, random_state=19; total time=   0.1s\n",
      "[CV] END .....................C=0.5, gamma=1, random_state=1; total time=   0.2s\n",
      "[CV] END .....................C=0.5, gamma=1, random_state=1; total time=   0.3s\n",
      "[CV] END .....................C=0.5, gamma=1, random_state=1; total time=   0.5s\n",
      "[CV] END .....................C=0.5, gamma=1, random_state=1; total time=   0.4s\n",
      "[CV] END .....................C=0.5, gamma=1, random_state=1; total time=   0.7s\n",
      "[CV] END .....................C=0.5, gamma=1, random_state=2; total time=   0.6s\n",
      "[CV] END .....................C=0.5, gamma=1, random_state=2; total time=   0.5s\n",
      "[CV] END .....................C=0.5, gamma=1, random_state=2; total time=   0.6s\n",
      "[CV] END .....................C=0.5, gamma=1, random_state=2; total time=   0.5s\n",
      "[CV] END .....................C=0.5, gamma=1, random_state=2; total time=   0.4s\n",
      "[CV] END .....................C=0.5, gamma=1, random_state=3; total time=   0.4s\n",
      "[CV] END .....................C=0.5, gamma=1, random_state=3; total time=   0.5s\n",
      "[CV] END .....................C=0.5, gamma=1, random_state=3; total time=   0.4s\n",
      "[CV] END .....................C=0.5, gamma=1, random_state=3; total time=   0.9s\n",
      "[CV] END .....................C=0.5, gamma=1, random_state=3; total time=   0.9s\n",
      "[CV] END .....................C=0.5, gamma=1, random_state=4; total time=   0.5s\n",
      "[CV] END .....................C=0.5, gamma=1, random_state=4; total time=   0.4s\n",
      "[CV] END .....................C=0.5, gamma=1, random_state=4; total time=   0.5s\n",
      "[CV] END .....................C=0.5, gamma=1, random_state=4; total time=   0.3s\n",
      "[CV] END .....................C=0.5, gamma=1, random_state=4; total time=   0.3s\n",
      "[CV] END .....................C=0.5, gamma=1, random_state=5; total time=   0.4s\n",
      "[CV] END .....................C=0.5, gamma=1, random_state=5; total time=   0.4s\n",
      "[CV] END .....................C=0.5, gamma=1, random_state=5; total time=   0.6s\n",
      "[CV] END .....................C=0.5, gamma=1, random_state=5; total time=   0.5s\n",
      "[CV] END .....................C=0.5, gamma=1, random_state=5; total time=   0.5s\n",
      "[CV] END .....................C=0.5, gamma=1, random_state=6; total time=   0.4s\n",
      "[CV] END .....................C=0.5, gamma=1, random_state=6; total time=   0.3s\n",
      "[CV] END .....................C=0.5, gamma=1, random_state=6; total time=   0.3s\n",
      "[CV] END .....................C=0.5, gamma=1, random_state=6; total time=   0.6s\n",
      "[CV] END .....................C=0.5, gamma=1, random_state=6; total time=   0.6s\n",
      "[CV] END .....................C=0.5, gamma=1, random_state=7; total time=   1.0s\n",
      "[CV] END .....................C=0.5, gamma=1, random_state=7; total time=   0.6s\n",
      "[CV] END .....................C=0.5, gamma=1, random_state=7; total time=   0.6s\n",
      "[CV] END .....................C=0.5, gamma=1, random_state=7; total time=   0.4s\n",
      "[CV] END .....................C=0.5, gamma=1, random_state=7; total time=   0.3s\n",
      "[CV] END .....................C=0.5, gamma=1, random_state=8; total time=   0.4s\n"
     ]
    },
    {
     "name": "stdout",
     "output_type": "stream",
     "text": [
      "[CV] END .....................C=0.5, gamma=1, random_state=8; total time=   0.5s\n",
      "[CV] END .....................C=0.5, gamma=1, random_state=8; total time=   0.6s\n",
      "[CV] END .....................C=0.5, gamma=1, random_state=8; total time=   0.5s\n",
      "[CV] END .....................C=0.5, gamma=1, random_state=8; total time=   0.4s\n",
      "[CV] END .....................C=0.5, gamma=1, random_state=9; total time=   0.3s\n",
      "[CV] END .....................C=0.5, gamma=1, random_state=9; total time=   0.3s\n",
      "[CV] END .....................C=0.5, gamma=1, random_state=9; total time=   0.5s\n",
      "[CV] END .....................C=0.5, gamma=1, random_state=9; total time=   0.3s\n",
      "[CV] END .....................C=0.5, gamma=1, random_state=9; total time=   0.3s\n",
      "[CV] END ....................C=0.5, gamma=1, random_state=10; total time=   0.3s\n",
      "[CV] END ....................C=0.5, gamma=1, random_state=10; total time=   0.2s\n",
      "[CV] END ....................C=0.5, gamma=1, random_state=10; total time=   0.3s\n",
      "[CV] END ....................C=0.5, gamma=1, random_state=10; total time=   0.3s\n",
      "[CV] END ....................C=0.5, gamma=1, random_state=10; total time=   0.3s\n",
      "[CV] END ....................C=0.5, gamma=1, random_state=11; total time=   0.3s\n",
      "[CV] END ....................C=0.5, gamma=1, random_state=11; total time=   0.3s\n",
      "[CV] END ....................C=0.5, gamma=1, random_state=11; total time=   0.3s\n",
      "[CV] END ....................C=0.5, gamma=1, random_state=11; total time=   0.3s\n",
      "[CV] END ....................C=0.5, gamma=1, random_state=11; total time=   0.3s\n",
      "[CV] END ....................C=0.5, gamma=1, random_state=12; total time=   0.3s\n",
      "[CV] END ....................C=0.5, gamma=1, random_state=12; total time=   0.3s\n",
      "[CV] END ....................C=0.5, gamma=1, random_state=12; total time=   0.3s\n",
      "[CV] END ....................C=0.5, gamma=1, random_state=12; total time=   0.3s\n",
      "[CV] END ....................C=0.5, gamma=1, random_state=12; total time=   0.4s\n",
      "[CV] END ....................C=0.5, gamma=1, random_state=13; total time=   0.3s\n",
      "[CV] END ....................C=0.5, gamma=1, random_state=13; total time=   0.4s\n",
      "[CV] END ....................C=0.5, gamma=1, random_state=13; total time=   0.3s\n",
      "[CV] END ....................C=0.5, gamma=1, random_state=13; total time=   0.4s\n",
      "[CV] END ....................C=0.5, gamma=1, random_state=13; total time=   0.3s\n",
      "[CV] END ....................C=0.5, gamma=1, random_state=14; total time=   0.7s\n",
      "[CV] END ....................C=0.5, gamma=1, random_state=14; total time=   0.8s\n",
      "[CV] END ....................C=0.5, gamma=1, random_state=14; total time=   0.8s\n",
      "[CV] END ....................C=0.5, gamma=1, random_state=14; total time=   0.6s\n",
      "[CV] END ....................C=0.5, gamma=1, random_state=14; total time=   0.5s\n",
      "[CV] END ....................C=0.5, gamma=1, random_state=15; total time=   0.3s\n",
      "[CV] END ....................C=0.5, gamma=1, random_state=15; total time=   0.4s\n",
      "[CV] END ....................C=0.5, gamma=1, random_state=15; total time=   0.6s\n",
      "[CV] END ....................C=0.5, gamma=1, random_state=15; total time=   0.3s\n",
      "[CV] END ....................C=0.5, gamma=1, random_state=15; total time=   0.3s\n",
      "[CV] END ....................C=0.5, gamma=1, random_state=16; total time=   0.3s\n",
      "[CV] END ....................C=0.5, gamma=1, random_state=16; total time=   0.3s\n",
      "[CV] END ....................C=0.5, gamma=1, random_state=16; total time=   0.2s\n",
      "[CV] END ....................C=0.5, gamma=1, random_state=16; total time=   0.3s\n",
      "[CV] END ....................C=0.5, gamma=1, random_state=16; total time=   0.3s\n",
      "[CV] END ....................C=0.5, gamma=1, random_state=17; total time=   0.3s\n",
      "[CV] END ....................C=0.5, gamma=1, random_state=17; total time=   0.2s\n",
      "[CV] END ....................C=0.5, gamma=1, random_state=17; total time=   0.3s\n",
      "[CV] END ....................C=0.5, gamma=1, random_state=17; total time=   0.2s\n",
      "[CV] END ....................C=0.5, gamma=1, random_state=17; total time=   0.3s\n",
      "[CV] END ....................C=0.5, gamma=1, random_state=18; total time=   0.2s\n",
      "[CV] END ....................C=0.5, gamma=1, random_state=18; total time=   0.3s\n",
      "[CV] END ....................C=0.5, gamma=1, random_state=18; total time=   0.3s\n",
      "[CV] END ....................C=0.5, gamma=1, random_state=18; total time=   0.3s\n",
      "[CV] END ....................C=0.5, gamma=1, random_state=18; total time=   0.4s\n",
      "[CV] END ....................C=0.5, gamma=1, random_state=19; total time=   0.3s\n",
      "[CV] END ....................C=0.5, gamma=1, random_state=19; total time=   0.3s\n",
      "[CV] END ....................C=0.5, gamma=1, random_state=19; total time=   0.2s\n",
      "[CV] END ....................C=0.5, gamma=1, random_state=19; total time=   0.2s\n",
      "[CV] END ....................C=0.5, gamma=1, random_state=19; total time=   0.3s\n",
      "[CV] END ...................C=0.5, gamma=0.1, random_state=1; total time=   0.2s\n",
      "[CV] END ...................C=0.5, gamma=0.1, random_state=1; total time=   0.2s\n",
      "[CV] END ...................C=0.5, gamma=0.1, random_state=1; total time=   0.2s\n",
      "[CV] END ...................C=0.5, gamma=0.1, random_state=1; total time=   0.3s\n",
      "[CV] END ...................C=0.5, gamma=0.1, random_state=1; total time=   0.2s\n",
      "[CV] END ...................C=0.5, gamma=0.1, random_state=2; total time=   0.2s\n",
      "[CV] END ...................C=0.5, gamma=0.1, random_state=2; total time=   0.2s\n",
      "[CV] END ...................C=0.5, gamma=0.1, random_state=2; total time=   0.3s\n",
      "[CV] END ...................C=0.5, gamma=0.1, random_state=2; total time=   0.4s\n",
      "[CV] END ...................C=0.5, gamma=0.1, random_state=2; total time=   0.7s\n",
      "[CV] END ...................C=0.5, gamma=0.1, random_state=3; total time=   0.4s\n",
      "[CV] END ...................C=0.5, gamma=0.1, random_state=3; total time=   0.2s\n",
      "[CV] END ...................C=0.5, gamma=0.1, random_state=3; total time=   0.2s\n",
      "[CV] END ...................C=0.5, gamma=0.1, random_state=3; total time=   0.2s\n",
      "[CV] END ...................C=0.5, gamma=0.1, random_state=3; total time=   0.2s\n",
      "[CV] END ...................C=0.5, gamma=0.1, random_state=4; total time=   0.2s\n",
      "[CV] END ...................C=0.5, gamma=0.1, random_state=4; total time=   0.2s\n",
      "[CV] END ...................C=0.5, gamma=0.1, random_state=4; total time=   0.2s\n",
      "[CV] END ...................C=0.5, gamma=0.1, random_state=4; total time=   0.2s\n",
      "[CV] END ...................C=0.5, gamma=0.1, random_state=4; total time=   0.2s\n",
      "[CV] END ...................C=0.5, gamma=0.1, random_state=5; total time=   0.2s\n",
      "[CV] END ...................C=0.5, gamma=0.1, random_state=5; total time=   0.2s\n",
      "[CV] END ...................C=0.5, gamma=0.1, random_state=5; total time=   0.2s\n",
      "[CV] END ...................C=0.5, gamma=0.1, random_state=5; total time=   0.2s\n",
      "[CV] END ...................C=0.5, gamma=0.1, random_state=5; total time=   0.2s\n",
      "[CV] END ...................C=0.5, gamma=0.1, random_state=6; total time=   0.2s\n",
      "[CV] END ...................C=0.5, gamma=0.1, random_state=6; total time=   0.2s\n",
      "[CV] END ...................C=0.5, gamma=0.1, random_state=6; total time=   0.2s\n",
      "[CV] END ...................C=0.5, gamma=0.1, random_state=6; total time=   0.2s\n",
      "[CV] END ...................C=0.5, gamma=0.1, random_state=6; total time=   0.2s\n",
      "[CV] END ...................C=0.5, gamma=0.1, random_state=7; total time=   0.2s\n",
      "[CV] END ...................C=0.5, gamma=0.1, random_state=7; total time=   0.2s\n",
      "[CV] END ...................C=0.5, gamma=0.1, random_state=7; total time=   0.2s\n",
      "[CV] END ...................C=0.5, gamma=0.1, random_state=7; total time=   0.2s\n",
      "[CV] END ...................C=0.5, gamma=0.1, random_state=7; total time=   0.2s\n",
      "[CV] END ...................C=0.5, gamma=0.1, random_state=8; total time=   0.2s\n",
      "[CV] END ...................C=0.5, gamma=0.1, random_state=8; total time=   0.2s\n",
      "[CV] END ...................C=0.5, gamma=0.1, random_state=8; total time=   0.2s\n",
      "[CV] END ...................C=0.5, gamma=0.1, random_state=8; total time=   0.2s\n",
      "[CV] END ...................C=0.5, gamma=0.1, random_state=8; total time=   0.2s\n",
      "[CV] END ...................C=0.5, gamma=0.1, random_state=9; total time=   0.2s\n",
      "[CV] END ...................C=0.5, gamma=0.1, random_state=9; total time=   0.2s\n",
      "[CV] END ...................C=0.5, gamma=0.1, random_state=9; total time=   0.2s\n"
     ]
    },
    {
     "name": "stdout",
     "output_type": "stream",
     "text": [
      "[CV] END ...................C=0.5, gamma=0.1, random_state=9; total time=   0.2s\n",
      "[CV] END ...................C=0.5, gamma=0.1, random_state=9; total time=   0.2s\n"
     ]
    },
    {
     "ename": "KeyboardInterrupt",
     "evalue": "",
     "output_type": "error",
     "traceback": [
      "\u001b[0;31m---------------------------------------------------------------------------\u001b[0m",
      "\u001b[0;31mKeyboardInterrupt\u001b[0m                         Traceback (most recent call last)",
      "\u001b[0;32m/var/folders/6k/ls9h_d695s728zdmnnf96l1c0000gn/T/ipykernel_4940/3175427249.py\u001b[0m in \u001b[0;36m<module>\u001b[0;34m\u001b[0m\n\u001b[1;32m      6\u001b[0m \u001b[0;34m\u001b[0m\u001b[0m\n\u001b[1;32m      7\u001b[0m \u001b[0;31m# Step:10 fitting the model for grid search\u001b[0m\u001b[0;34m\u001b[0m\u001b[0;34m\u001b[0m\u001b[0m\n\u001b[0;32m----> 8\u001b[0;31m \u001b[0mgrid\u001b[0m\u001b[0;34m.\u001b[0m\u001b[0mfit\u001b[0m\u001b[0;34m(\u001b[0m\u001b[0mX\u001b[0m\u001b[0;34m,\u001b[0m\u001b[0my\u001b[0m\u001b[0;34m)\u001b[0m\u001b[0;34m\u001b[0m\u001b[0;34m\u001b[0m\u001b[0m\n\u001b[0m",
      "\u001b[0;32m/opt/anaconda3/lib/python3.9/site-packages/sklearn/model_selection/_search.py\u001b[0m in \u001b[0;36mfit\u001b[0;34m(self, X, y, groups, **fit_params)\u001b[0m\n\u001b[1;32m    889\u001b[0m                 \u001b[0;32mreturn\u001b[0m \u001b[0mresults\u001b[0m\u001b[0;34m\u001b[0m\u001b[0;34m\u001b[0m\u001b[0m\n\u001b[1;32m    890\u001b[0m \u001b[0;34m\u001b[0m\u001b[0m\n\u001b[0;32m--> 891\u001b[0;31m             \u001b[0mself\u001b[0m\u001b[0;34m.\u001b[0m\u001b[0m_run_search\u001b[0m\u001b[0;34m(\u001b[0m\u001b[0mevaluate_candidates\u001b[0m\u001b[0;34m)\u001b[0m\u001b[0;34m\u001b[0m\u001b[0;34m\u001b[0m\u001b[0m\n\u001b[0m\u001b[1;32m    892\u001b[0m \u001b[0;34m\u001b[0m\u001b[0m\n\u001b[1;32m    893\u001b[0m             \u001b[0;31m# multimetric is determined here because in the case of a callable\u001b[0m\u001b[0;34m\u001b[0m\u001b[0;34m\u001b[0m\u001b[0m\n",
      "\u001b[0;32m/opt/anaconda3/lib/python3.9/site-packages/sklearn/model_selection/_search.py\u001b[0m in \u001b[0;36m_run_search\u001b[0;34m(self, evaluate_candidates)\u001b[0m\n\u001b[1;32m   1390\u001b[0m     \u001b[0;32mdef\u001b[0m \u001b[0m_run_search\u001b[0m\u001b[0;34m(\u001b[0m\u001b[0mself\u001b[0m\u001b[0;34m,\u001b[0m \u001b[0mevaluate_candidates\u001b[0m\u001b[0;34m)\u001b[0m\u001b[0;34m:\u001b[0m\u001b[0;34m\u001b[0m\u001b[0;34m\u001b[0m\u001b[0m\n\u001b[1;32m   1391\u001b[0m         \u001b[0;34m\"\"\"Search all candidates in param_grid\"\"\"\u001b[0m\u001b[0;34m\u001b[0m\u001b[0;34m\u001b[0m\u001b[0m\n\u001b[0;32m-> 1392\u001b[0;31m         \u001b[0mevaluate_candidates\u001b[0m\u001b[0;34m(\u001b[0m\u001b[0mParameterGrid\u001b[0m\u001b[0;34m(\u001b[0m\u001b[0mself\u001b[0m\u001b[0;34m.\u001b[0m\u001b[0mparam_grid\u001b[0m\u001b[0;34m)\u001b[0m\u001b[0;34m)\u001b[0m\u001b[0;34m\u001b[0m\u001b[0;34m\u001b[0m\u001b[0m\n\u001b[0m\u001b[1;32m   1393\u001b[0m \u001b[0;34m\u001b[0m\u001b[0m\n\u001b[1;32m   1394\u001b[0m \u001b[0;34m\u001b[0m\u001b[0m\n",
      "\u001b[0;32m/opt/anaconda3/lib/python3.9/site-packages/sklearn/model_selection/_search.py\u001b[0m in \u001b[0;36mevaluate_candidates\u001b[0;34m(candidate_params, cv, more_results)\u001b[0m\n\u001b[1;32m    836\u001b[0m                     )\n\u001b[1;32m    837\u001b[0m \u001b[0;34m\u001b[0m\u001b[0m\n\u001b[0;32m--> 838\u001b[0;31m                 out = parallel(\n\u001b[0m\u001b[1;32m    839\u001b[0m                     delayed(_fit_and_score)(\n\u001b[1;32m    840\u001b[0m                         \u001b[0mclone\u001b[0m\u001b[0;34m(\u001b[0m\u001b[0mbase_estimator\u001b[0m\u001b[0;34m)\u001b[0m\u001b[0;34m,\u001b[0m\u001b[0;34m\u001b[0m\u001b[0;34m\u001b[0m\u001b[0m\n",
      "\u001b[0;32m/opt/anaconda3/lib/python3.9/site-packages/joblib/parallel.py\u001b[0m in \u001b[0;36m__call__\u001b[0;34m(self, iterable)\u001b[0m\n\u001b[1;32m   1086\u001b[0m                 \u001b[0mself\u001b[0m\u001b[0;34m.\u001b[0m\u001b[0m_iterating\u001b[0m \u001b[0;34m=\u001b[0m \u001b[0mself\u001b[0m\u001b[0;34m.\u001b[0m\u001b[0m_original_iterator\u001b[0m \u001b[0;32mis\u001b[0m \u001b[0;32mnot\u001b[0m \u001b[0;32mNone\u001b[0m\u001b[0;34m\u001b[0m\u001b[0;34m\u001b[0m\u001b[0m\n\u001b[1;32m   1087\u001b[0m \u001b[0;34m\u001b[0m\u001b[0m\n\u001b[0;32m-> 1088\u001b[0;31m             \u001b[0;32mwhile\u001b[0m \u001b[0mself\u001b[0m\u001b[0;34m.\u001b[0m\u001b[0mdispatch_one_batch\u001b[0m\u001b[0;34m(\u001b[0m\u001b[0miterator\u001b[0m\u001b[0;34m)\u001b[0m\u001b[0;34m:\u001b[0m\u001b[0;34m\u001b[0m\u001b[0;34m\u001b[0m\u001b[0m\n\u001b[0m\u001b[1;32m   1089\u001b[0m                 \u001b[0;32mpass\u001b[0m\u001b[0;34m\u001b[0m\u001b[0;34m\u001b[0m\u001b[0m\n\u001b[1;32m   1090\u001b[0m \u001b[0;34m\u001b[0m\u001b[0m\n",
      "\u001b[0;32m/opt/anaconda3/lib/python3.9/site-packages/joblib/parallel.py\u001b[0m in \u001b[0;36mdispatch_one_batch\u001b[0;34m(self, iterator)\u001b[0m\n\u001b[1;32m    899\u001b[0m                 \u001b[0;32mreturn\u001b[0m \u001b[0;32mFalse\u001b[0m\u001b[0;34m\u001b[0m\u001b[0;34m\u001b[0m\u001b[0m\n\u001b[1;32m    900\u001b[0m             \u001b[0;32melse\u001b[0m\u001b[0;34m:\u001b[0m\u001b[0;34m\u001b[0m\u001b[0;34m\u001b[0m\u001b[0m\n\u001b[0;32m--> 901\u001b[0;31m                 \u001b[0mself\u001b[0m\u001b[0;34m.\u001b[0m\u001b[0m_dispatch\u001b[0m\u001b[0;34m(\u001b[0m\u001b[0mtasks\u001b[0m\u001b[0;34m)\u001b[0m\u001b[0;34m\u001b[0m\u001b[0;34m\u001b[0m\u001b[0m\n\u001b[0m\u001b[1;32m    902\u001b[0m                 \u001b[0;32mreturn\u001b[0m \u001b[0;32mTrue\u001b[0m\u001b[0;34m\u001b[0m\u001b[0;34m\u001b[0m\u001b[0m\n\u001b[1;32m    903\u001b[0m \u001b[0;34m\u001b[0m\u001b[0m\n",
      "\u001b[0;32m/opt/anaconda3/lib/python3.9/site-packages/joblib/parallel.py\u001b[0m in \u001b[0;36m_dispatch\u001b[0;34m(self, batch)\u001b[0m\n\u001b[1;32m    817\u001b[0m         \u001b[0;32mwith\u001b[0m \u001b[0mself\u001b[0m\u001b[0;34m.\u001b[0m\u001b[0m_lock\u001b[0m\u001b[0;34m:\u001b[0m\u001b[0;34m\u001b[0m\u001b[0;34m\u001b[0m\u001b[0m\n\u001b[1;32m    818\u001b[0m             \u001b[0mjob_idx\u001b[0m \u001b[0;34m=\u001b[0m \u001b[0mlen\u001b[0m\u001b[0;34m(\u001b[0m\u001b[0mself\u001b[0m\u001b[0;34m.\u001b[0m\u001b[0m_jobs\u001b[0m\u001b[0;34m)\u001b[0m\u001b[0;34m\u001b[0m\u001b[0;34m\u001b[0m\u001b[0m\n\u001b[0;32m--> 819\u001b[0;31m             \u001b[0mjob\u001b[0m \u001b[0;34m=\u001b[0m \u001b[0mself\u001b[0m\u001b[0;34m.\u001b[0m\u001b[0m_backend\u001b[0m\u001b[0;34m.\u001b[0m\u001b[0mapply_async\u001b[0m\u001b[0;34m(\u001b[0m\u001b[0mbatch\u001b[0m\u001b[0;34m,\u001b[0m \u001b[0mcallback\u001b[0m\u001b[0;34m=\u001b[0m\u001b[0mcb\u001b[0m\u001b[0;34m)\u001b[0m\u001b[0;34m\u001b[0m\u001b[0;34m\u001b[0m\u001b[0m\n\u001b[0m\u001b[1;32m    820\u001b[0m             \u001b[0;31m# A job can complete so quickly than its callback is\u001b[0m\u001b[0;34m\u001b[0m\u001b[0;34m\u001b[0m\u001b[0m\n\u001b[1;32m    821\u001b[0m             \u001b[0;31m# called before we get here, causing self._jobs to\u001b[0m\u001b[0;34m\u001b[0m\u001b[0;34m\u001b[0m\u001b[0m\n",
      "\u001b[0;32m/opt/anaconda3/lib/python3.9/site-packages/joblib/_parallel_backends.py\u001b[0m in \u001b[0;36mapply_async\u001b[0;34m(self, func, callback)\u001b[0m\n\u001b[1;32m    206\u001b[0m     \u001b[0;32mdef\u001b[0m \u001b[0mapply_async\u001b[0m\u001b[0;34m(\u001b[0m\u001b[0mself\u001b[0m\u001b[0;34m,\u001b[0m \u001b[0mfunc\u001b[0m\u001b[0;34m,\u001b[0m \u001b[0mcallback\u001b[0m\u001b[0;34m=\u001b[0m\u001b[0;32mNone\u001b[0m\u001b[0;34m)\u001b[0m\u001b[0;34m:\u001b[0m\u001b[0;34m\u001b[0m\u001b[0;34m\u001b[0m\u001b[0m\n\u001b[1;32m    207\u001b[0m         \u001b[0;34m\"\"\"Schedule a func to be run\"\"\"\u001b[0m\u001b[0;34m\u001b[0m\u001b[0;34m\u001b[0m\u001b[0m\n\u001b[0;32m--> 208\u001b[0;31m         \u001b[0mresult\u001b[0m \u001b[0;34m=\u001b[0m \u001b[0mImmediateResult\u001b[0m\u001b[0;34m(\u001b[0m\u001b[0mfunc\u001b[0m\u001b[0;34m)\u001b[0m\u001b[0;34m\u001b[0m\u001b[0;34m\u001b[0m\u001b[0m\n\u001b[0m\u001b[1;32m    209\u001b[0m         \u001b[0;32mif\u001b[0m \u001b[0mcallback\u001b[0m\u001b[0;34m:\u001b[0m\u001b[0;34m\u001b[0m\u001b[0;34m\u001b[0m\u001b[0m\n\u001b[1;32m    210\u001b[0m             \u001b[0mcallback\u001b[0m\u001b[0;34m(\u001b[0m\u001b[0mresult\u001b[0m\u001b[0;34m)\u001b[0m\u001b[0;34m\u001b[0m\u001b[0;34m\u001b[0m\u001b[0m\n",
      "\u001b[0;32m/opt/anaconda3/lib/python3.9/site-packages/joblib/_parallel_backends.py\u001b[0m in \u001b[0;36m__init__\u001b[0;34m(self, batch)\u001b[0m\n\u001b[1;32m    595\u001b[0m         \u001b[0;31m# Don't delay the application, to avoid keeping the input\u001b[0m\u001b[0;34m\u001b[0m\u001b[0;34m\u001b[0m\u001b[0m\n\u001b[1;32m    596\u001b[0m         \u001b[0;31m# arguments in memory\u001b[0m\u001b[0;34m\u001b[0m\u001b[0;34m\u001b[0m\u001b[0m\n\u001b[0;32m--> 597\u001b[0;31m         \u001b[0mself\u001b[0m\u001b[0;34m.\u001b[0m\u001b[0mresults\u001b[0m \u001b[0;34m=\u001b[0m \u001b[0mbatch\u001b[0m\u001b[0;34m(\u001b[0m\u001b[0;34m)\u001b[0m\u001b[0;34m\u001b[0m\u001b[0;34m\u001b[0m\u001b[0m\n\u001b[0m\u001b[1;32m    598\u001b[0m \u001b[0;34m\u001b[0m\u001b[0m\n\u001b[1;32m    599\u001b[0m     \u001b[0;32mdef\u001b[0m \u001b[0mget\u001b[0m\u001b[0;34m(\u001b[0m\u001b[0mself\u001b[0m\u001b[0;34m)\u001b[0m\u001b[0;34m:\u001b[0m\u001b[0;34m\u001b[0m\u001b[0;34m\u001b[0m\u001b[0m\n",
      "\u001b[0;32m/opt/anaconda3/lib/python3.9/site-packages/joblib/parallel.py\u001b[0m in \u001b[0;36m__call__\u001b[0;34m(self)\u001b[0m\n\u001b[1;32m    286\u001b[0m         \u001b[0;31m# change the default number of processes to -1\u001b[0m\u001b[0;34m\u001b[0m\u001b[0;34m\u001b[0m\u001b[0m\n\u001b[1;32m    287\u001b[0m         \u001b[0;32mwith\u001b[0m \u001b[0mparallel_backend\u001b[0m\u001b[0;34m(\u001b[0m\u001b[0mself\u001b[0m\u001b[0;34m.\u001b[0m\u001b[0m_backend\u001b[0m\u001b[0;34m,\u001b[0m \u001b[0mn_jobs\u001b[0m\u001b[0;34m=\u001b[0m\u001b[0mself\u001b[0m\u001b[0;34m.\u001b[0m\u001b[0m_n_jobs\u001b[0m\u001b[0;34m)\u001b[0m\u001b[0;34m:\u001b[0m\u001b[0;34m\u001b[0m\u001b[0;34m\u001b[0m\u001b[0m\n\u001b[0;32m--> 288\u001b[0;31m             return [func(*args, **kwargs)\n\u001b[0m\u001b[1;32m    289\u001b[0m                     for func, args, kwargs in self.items]\n\u001b[1;32m    290\u001b[0m \u001b[0;34m\u001b[0m\u001b[0m\n",
      "\u001b[0;32m/opt/anaconda3/lib/python3.9/site-packages/joblib/parallel.py\u001b[0m in \u001b[0;36m<listcomp>\u001b[0;34m(.0)\u001b[0m\n\u001b[1;32m    286\u001b[0m         \u001b[0;31m# change the default number of processes to -1\u001b[0m\u001b[0;34m\u001b[0m\u001b[0;34m\u001b[0m\u001b[0m\n\u001b[1;32m    287\u001b[0m         \u001b[0;32mwith\u001b[0m \u001b[0mparallel_backend\u001b[0m\u001b[0;34m(\u001b[0m\u001b[0mself\u001b[0m\u001b[0;34m.\u001b[0m\u001b[0m_backend\u001b[0m\u001b[0;34m,\u001b[0m \u001b[0mn_jobs\u001b[0m\u001b[0;34m=\u001b[0m\u001b[0mself\u001b[0m\u001b[0;34m.\u001b[0m\u001b[0m_n_jobs\u001b[0m\u001b[0;34m)\u001b[0m\u001b[0;34m:\u001b[0m\u001b[0;34m\u001b[0m\u001b[0;34m\u001b[0m\u001b[0m\n\u001b[0;32m--> 288\u001b[0;31m             return [func(*args, **kwargs)\n\u001b[0m\u001b[1;32m    289\u001b[0m                     for func, args, kwargs in self.items]\n\u001b[1;32m    290\u001b[0m \u001b[0;34m\u001b[0m\u001b[0m\n",
      "\u001b[0;32m/opt/anaconda3/lib/python3.9/site-packages/sklearn/utils/fixes.py\u001b[0m in \u001b[0;36m__call__\u001b[0;34m(self, *args, **kwargs)\u001b[0m\n\u001b[1;32m    214\u001b[0m     \u001b[0;32mdef\u001b[0m \u001b[0m__call__\u001b[0m\u001b[0;34m(\u001b[0m\u001b[0mself\u001b[0m\u001b[0;34m,\u001b[0m \u001b[0;34m*\u001b[0m\u001b[0margs\u001b[0m\u001b[0;34m,\u001b[0m \u001b[0;34m**\u001b[0m\u001b[0mkwargs\u001b[0m\u001b[0;34m)\u001b[0m\u001b[0;34m:\u001b[0m\u001b[0;34m\u001b[0m\u001b[0;34m\u001b[0m\u001b[0m\n\u001b[1;32m    215\u001b[0m         \u001b[0;32mwith\u001b[0m \u001b[0mconfig_context\u001b[0m\u001b[0;34m(\u001b[0m\u001b[0;34m**\u001b[0m\u001b[0mself\u001b[0m\u001b[0;34m.\u001b[0m\u001b[0mconfig\u001b[0m\u001b[0;34m)\u001b[0m\u001b[0;34m:\u001b[0m\u001b[0;34m\u001b[0m\u001b[0;34m\u001b[0m\u001b[0m\n\u001b[0;32m--> 216\u001b[0;31m             \u001b[0;32mreturn\u001b[0m \u001b[0mself\u001b[0m\u001b[0;34m.\u001b[0m\u001b[0mfunction\u001b[0m\u001b[0;34m(\u001b[0m\u001b[0;34m*\u001b[0m\u001b[0margs\u001b[0m\u001b[0;34m,\u001b[0m \u001b[0;34m**\u001b[0m\u001b[0mkwargs\u001b[0m\u001b[0;34m)\u001b[0m\u001b[0;34m\u001b[0m\u001b[0;34m\u001b[0m\u001b[0m\n\u001b[0m\u001b[1;32m    217\u001b[0m \u001b[0;34m\u001b[0m\u001b[0m\n\u001b[1;32m    218\u001b[0m \u001b[0;34m\u001b[0m\u001b[0m\n",
      "\u001b[0;32m/opt/anaconda3/lib/python3.9/site-packages/sklearn/model_selection/_validation.py\u001b[0m in \u001b[0;36m_fit_and_score\u001b[0;34m(estimator, X, y, scorer, train, test, verbose, parameters, fit_params, return_train_score, return_parameters, return_n_test_samples, return_times, return_estimator, split_progress, candidate_progress, error_score)\u001b[0m\n\u001b[1;32m    678\u001b[0m             \u001b[0mestimator\u001b[0m\u001b[0;34m.\u001b[0m\u001b[0mfit\u001b[0m\u001b[0;34m(\u001b[0m\u001b[0mX_train\u001b[0m\u001b[0;34m,\u001b[0m \u001b[0;34m**\u001b[0m\u001b[0mfit_params\u001b[0m\u001b[0;34m)\u001b[0m\u001b[0;34m\u001b[0m\u001b[0;34m\u001b[0m\u001b[0m\n\u001b[1;32m    679\u001b[0m         \u001b[0;32melse\u001b[0m\u001b[0;34m:\u001b[0m\u001b[0;34m\u001b[0m\u001b[0;34m\u001b[0m\u001b[0m\n\u001b[0;32m--> 680\u001b[0;31m             \u001b[0mestimator\u001b[0m\u001b[0;34m.\u001b[0m\u001b[0mfit\u001b[0m\u001b[0;34m(\u001b[0m\u001b[0mX_train\u001b[0m\u001b[0;34m,\u001b[0m \u001b[0my_train\u001b[0m\u001b[0;34m,\u001b[0m \u001b[0;34m**\u001b[0m\u001b[0mfit_params\u001b[0m\u001b[0;34m)\u001b[0m\u001b[0;34m\u001b[0m\u001b[0;34m\u001b[0m\u001b[0m\n\u001b[0m\u001b[1;32m    681\u001b[0m \u001b[0;34m\u001b[0m\u001b[0m\n\u001b[1;32m    682\u001b[0m     \u001b[0;32mexcept\u001b[0m \u001b[0mException\u001b[0m\u001b[0;34m:\u001b[0m\u001b[0;34m\u001b[0m\u001b[0;34m\u001b[0m\u001b[0m\n",
      "\u001b[0;32m/opt/anaconda3/lib/python3.9/site-packages/sklearn/svm/_base.py\u001b[0m in \u001b[0;36mfit\u001b[0;34m(self, X, y, sample_weight)\u001b[0m\n\u001b[1;32m    253\u001b[0m \u001b[0;34m\u001b[0m\u001b[0m\n\u001b[1;32m    254\u001b[0m         \u001b[0mseed\u001b[0m \u001b[0;34m=\u001b[0m \u001b[0mrnd\u001b[0m\u001b[0;34m.\u001b[0m\u001b[0mrandint\u001b[0m\u001b[0;34m(\u001b[0m\u001b[0mnp\u001b[0m\u001b[0;34m.\u001b[0m\u001b[0miinfo\u001b[0m\u001b[0;34m(\u001b[0m\u001b[0;34m\"i\"\u001b[0m\u001b[0;34m)\u001b[0m\u001b[0;34m.\u001b[0m\u001b[0mmax\u001b[0m\u001b[0;34m)\u001b[0m\u001b[0;34m\u001b[0m\u001b[0;34m\u001b[0m\u001b[0m\n\u001b[0;32m--> 255\u001b[0;31m         \u001b[0mfit\u001b[0m\u001b[0;34m(\u001b[0m\u001b[0mX\u001b[0m\u001b[0;34m,\u001b[0m \u001b[0my\u001b[0m\u001b[0;34m,\u001b[0m \u001b[0msample_weight\u001b[0m\u001b[0;34m,\u001b[0m \u001b[0msolver_type\u001b[0m\u001b[0;34m,\u001b[0m \u001b[0mkernel\u001b[0m\u001b[0;34m,\u001b[0m \u001b[0mrandom_seed\u001b[0m\u001b[0;34m=\u001b[0m\u001b[0mseed\u001b[0m\u001b[0;34m)\u001b[0m\u001b[0;34m\u001b[0m\u001b[0;34m\u001b[0m\u001b[0m\n\u001b[0m\u001b[1;32m    256\u001b[0m         \u001b[0;31m# see comment on the other call to np.iinfo in this file\u001b[0m\u001b[0;34m\u001b[0m\u001b[0;34m\u001b[0m\u001b[0m\n\u001b[1;32m    257\u001b[0m \u001b[0;34m\u001b[0m\u001b[0m\n",
      "\u001b[0;32m/opt/anaconda3/lib/python3.9/site-packages/sklearn/svm/_base.py\u001b[0m in \u001b[0;36m_dense_fit\u001b[0;34m(self, X, y, sample_weight, solver_type, kernel, random_seed)\u001b[0m\n\u001b[1;32m    313\u001b[0m             \u001b[0mself\u001b[0m\u001b[0;34m.\u001b[0m\u001b[0m_probB\u001b[0m\u001b[0;34m,\u001b[0m\u001b[0;34m\u001b[0m\u001b[0;34m\u001b[0m\u001b[0m\n\u001b[1;32m    314\u001b[0m             \u001b[0mself\u001b[0m\u001b[0;34m.\u001b[0m\u001b[0mfit_status_\u001b[0m\u001b[0;34m,\u001b[0m\u001b[0;34m\u001b[0m\u001b[0;34m\u001b[0m\u001b[0m\n\u001b[0;32m--> 315\u001b[0;31m         \u001b[0;34m)\u001b[0m \u001b[0;34m=\u001b[0m \u001b[0mlibsvm\u001b[0m\u001b[0;34m.\u001b[0m\u001b[0mfit\u001b[0m\u001b[0;34m(\u001b[0m\u001b[0;34m\u001b[0m\u001b[0;34m\u001b[0m\u001b[0m\n\u001b[0m\u001b[1;32m    316\u001b[0m             \u001b[0mX\u001b[0m\u001b[0;34m,\u001b[0m\u001b[0;34m\u001b[0m\u001b[0;34m\u001b[0m\u001b[0m\n\u001b[1;32m    317\u001b[0m             \u001b[0my\u001b[0m\u001b[0;34m,\u001b[0m\u001b[0;34m\u001b[0m\u001b[0;34m\u001b[0m\u001b[0m\n",
      "\u001b[0;31mKeyboardInterrupt\u001b[0m: "
     ]
    }
   ],
   "source": [
    "param_grid = {'C':[0.1,0.5,10,50,60,70,80],\n",
    "             'gamma':[1,0.1,0.001,0.0001,0.00001],\n",
    "             'random_state':(list(range(1,20)))}\n",
    "model = SVC() # Object creation\n",
    "grid = GridSearchCV(model,param_grid,refit=True,verbose=2,scoring='f1',cv=5)\n",
    "\n",
    "# Step:10 fitting the model for grid search\n",
    "grid.fit(X,y)"
   ]
  },
  {
   "cell_type": "code",
   "execution_count": 15,
   "id": "ff11361c",
   "metadata": {},
   "outputs": [],
   "source": [
    "# set the best parameter \n",
    "clf =SVC(C=0.6,gamma=0.1,random_state=1)\n",
    "\n",
    "# fit the model\n",
    "clf.fit(X_train,y_train)\n",
    "\n",
    "# Predict the x test\n",
    "y_hat_clf = clf.predict(X_test)"
   ]
  },
  {
   "cell_type": "markdown",
   "id": "3b920d22",
   "metadata": {},
   "source": [
    "#### TESTING ACCURACY AFTER HYPERPARAMETER TUNNING"
   ]
  },
  {
   "cell_type": "code",
   "execution_count": 16,
   "id": "fb8b9836",
   "metadata": {},
   "outputs": [
    {
     "name": "stdout",
     "output_type": "stream",
     "text": [
      "Testing accuracy of support vector classifier model 96.76190476190476\n",
      "support vector classifier Classification report: \n",
      "               precision    recall  f1-score   support\n",
      "\n",
      "           2       0.94      0.99      0.97       174\n",
      "           3       0.98      0.93      0.95       182\n",
      "           4       0.99      0.98      0.99       169\n",
      "\n",
      "    accuracy                           0.97       525\n",
      "   macro avg       0.97      0.97      0.97       525\n",
      "weighted avg       0.97      0.97      0.97       525\n",
      "\n"
     ]
    }
   ],
   "source": [
    "test_accuracy = accuracy_score(y_hat_clf,y_test)\n",
    "print(\"Testing accuracy of support vector classifier model\",test_accuracy*100)\n",
    "print(\"support vector classifier Classification report: \\n\",classification_report(y_hat_clf,y_test))"
   ]
  },
  {
   "cell_type": "markdown",
   "id": "9b5c079f",
   "metadata": {},
   "source": [
    "* After hyperparameter tunning score is increases"
   ]
  },
  {
   "cell_type": "markdown",
   "id": "b98ce1b7",
   "metadata": {},
   "source": [
    "### 2.Logistic Regression\n",
    "\n",
    "**Logistic Regression** is commonly used to estimate the probability that an  instance belongs to a particular class.If the estimated probability is greater than 50% then the model predicts that the instance belongs to that class(*called the positive class ,labeled as '1')* or else it predict that it does not \n",
    "(*that is it belongs to the negative class ,labeled as 'o' )*.This make it a binary classifier \n",
    "\n",
    "**Equation of Logistic Regression is **\n",
    " Y= Wt x + B\n",
    " i.e y is equal to W to the power of t plus b"
   ]
  },
  {
   "cell_type": "code",
   "execution_count": 17,
   "id": "1cf010b1",
   "metadata": {},
   "outputs": [],
   "source": [
    "clf=LogisticRegression()\n",
    "\n",
    "clf.fit(X_train,y_train)  ## training\n",
    "\n",
    "# Prediction on train data\n",
    "lg_train_predict = clf.predict(X_train)\n",
    "\n",
    "# Prediction on test data\n",
    "lg_test_predict = clf.predict(X_test)\n"
   ]
  },
  {
   "cell_type": "markdown",
   "id": "baa38274",
   "metadata": {},
   "source": [
    "#### TRAINING ACCURACY"
   ]
  },
  {
   "cell_type": "code",
   "execution_count": 18,
   "id": "9a009d50",
   "metadata": {},
   "outputs": [
    {
     "name": "stdout",
     "output_type": "stream",
     "text": [
      "Training accuracy of Logistic Regression model 91.17787315212207\n",
      "Logistic Regression Classification report: \n",
      "               precision    recall  f1-score   support\n",
      "\n",
      "           2       0.96      0.90      0.93       734\n",
      "           3       0.83      0.90      0.86       646\n",
      "           4       0.95      0.93      0.94       717\n",
      "\n",
      "    accuracy                           0.91      2097\n",
      "   macro avg       0.91      0.91      0.91      2097\n",
      "weighted avg       0.92      0.91      0.91      2097\n",
      "\n"
     ]
    }
   ],
   "source": [
    "lg_train_accuracy = accuracy_score(lg_train_predict,y_train)\n",
    "print(\"Training accuracy of Logistic Regression model\",lg_train_accuracy*100)\n",
    "print(\"Logistic Regression Classification report: \\n\",classification_report(lg_train_predict,y_train))"
   ]
  },
  {
   "cell_type": "markdown",
   "id": "2d0cc845",
   "metadata": {},
   "source": [
    "Logistic Regression perform well on training data"
   ]
  },
  {
   "cell_type": "markdown",
   "id": "f6cb68ab",
   "metadata": {},
   "source": [
    "#### TESTING ACCURACY"
   ]
  },
  {
   "cell_type": "code",
   "execution_count": 19,
   "id": "9121a3bc",
   "metadata": {},
   "outputs": [
    {
     "name": "stdout",
     "output_type": "stream",
     "text": [
      "Testing accuracy of Logistic Regression model 90.47619047619048\n",
      "Logistic Regression Classification report: \n",
      "               precision    recall  f1-score   support\n",
      "\n",
      "           2       0.94      0.90      0.92       192\n",
      "           3       0.82      0.89      0.85       158\n",
      "           4       0.96      0.92      0.94       175\n",
      "\n",
      "    accuracy                           0.90       525\n",
      "   macro avg       0.90      0.90      0.90       525\n",
      "weighted avg       0.91      0.90      0.91       525\n",
      "\n"
     ]
    }
   ],
   "source": [
    "lg_test_accuracy = accuracy_score(lg_test_predict,y_test)\n",
    "print(\"Testing accuracy of Logistic Regression model\",lg_test_accuracy*100)\n",
    "print(\"Logistic Regression Classification report: \\n\",classification_report(lg_test_predict,y_test))"
   ]
  },
  {
   "cell_type": "code",
   "execution_count": 41,
   "id": "87be413c",
   "metadata": {},
   "outputs": [
    {
     "data": {
      "text/plain": [
       "array([[173,  10,   1],\n",
       "       [ 19, 141,  13],\n",
       "       [  0,   7, 161]])"
      ]
     },
     "execution_count": 41,
     "metadata": {},
     "output_type": "execute_result"
    }
   ],
   "source": [
    "confusion_matrix(y_test,lg_test_predict)"
   ]
  },
  {
   "cell_type": "markdown",
   "id": "80e692c9",
   "metadata": {},
   "source": [
    "### 3.Random Forest"
   ]
  },
  {
   "cell_type": "code",
   "execution_count": 20,
   "id": "ae010621",
   "metadata": {},
   "outputs": [],
   "source": [
    "rf = RandomForestClassifier(n_estimators=100) # 100 decision tree\n",
    "\n",
    "# fitting training data\n",
    "rf.fit(X_train,y_train)\n",
    "\n",
    "# Prediction on testing data\n",
    "rf_test_predict = rf.predict(X_test)\n",
    "\n",
    "# Prediction on training data\n",
    "rf_train_predict = rf.predict(X_train)\n"
   ]
  },
  {
   "cell_type": "markdown",
   "id": "15743e21",
   "metadata": {},
   "source": [
    "#### TRANING ACCURACY"
   ]
  },
  {
   "cell_type": "code",
   "execution_count": 21,
   "id": "4ef56cd7",
   "metadata": {},
   "outputs": [
    {
     "name": "stdout",
     "output_type": "stream",
     "text": [
      "Training accuracy of random forest 1.0\n",
      "Classification report of training: \n",
      "               precision    recall  f1-score   support\n",
      "\n",
      "           2       1.00      1.00      1.00       690\n",
      "           3       1.00      1.00      1.00       701\n",
      "           4       1.00      1.00      1.00       706\n",
      "\n",
      "    accuracy                           1.00      2097\n",
      "   macro avg       1.00      1.00      1.00      2097\n",
      "weighted avg       1.00      1.00      1.00      2097\n",
      "\n"
     ]
    }
   ],
   "source": [
    "rf_train_accuracy = accuracy_score(rf_train_predict,y_train)\n",
    "print(\"Training accuracy of random forest\",rf_train_accuracy)\n",
    "print(\"Classification report of training: \\n\",classification_report(rf_train_predict,y_train))"
   ]
  },
  {
   "cell_type": "markdown",
   "id": "e486fab1",
   "metadata": {},
   "source": [
    "* Random forest classifier very well work on training data."
   ]
  },
  {
   "cell_type": "markdown",
   "id": "9a6facd0",
   "metadata": {},
   "source": [
    "#### TESTING ACCURACY"
   ]
  },
  {
   "cell_type": "code",
   "execution_count": 22,
   "id": "2f99c727",
   "metadata": {},
   "outputs": [
    {
     "name": "stdout",
     "output_type": "stream",
     "text": [
      "Testing accuracy of random forest 92.95238095238095\n",
      "Classification report of testing: \n",
      "               precision    recall  f1-score   support\n",
      "\n",
      "           2       0.95      0.92      0.94       190\n",
      "           3       0.86      0.92      0.89       162\n",
      "           4       0.98      0.95      0.96       173\n",
      "\n",
      "    accuracy                           0.93       525\n",
      "   macro avg       0.93      0.93      0.93       525\n",
      "weighted avg       0.93      0.93      0.93       525\n",
      "\n"
     ]
    }
   ],
   "source": [
    "rf_test_accuracy = accuracy_score(rf_test_predict,y_test)\n",
    "print(\"Testing accuracy of random forest\",rf_test_accuracy*100)\n",
    "print(\"Classification report of testing: \\n\",classification_report(rf_test_predict,y_test))"
   ]
  },
  {
   "cell_type": "code",
   "execution_count": 42,
   "id": "516d82b6",
   "metadata": {},
   "outputs": [
    {
     "data": {
      "text/plain": [
       "array([[175,   9,   0],\n",
       "       [ 15, 149,   9],\n",
       "       [  0,   4, 164]])"
      ]
     },
     "execution_count": 42,
     "metadata": {},
     "output_type": "execute_result"
    }
   ],
   "source": [
    "confusion_matrix(y_test,rf_test_predict)"
   ]
  },
  {
   "cell_type": "markdown",
   "id": "f351e813",
   "metadata": {},
   "source": [
    "#### HYPER PARAMETER TUNNING WITH RANDOMIZED SEARCH CV"
   ]
  },
  {
   "cell_type": "code",
   "execution_count": 23,
   "id": "465ab9c4",
   "metadata": {},
   "outputs": [
    {
     "name": "stdout",
     "output_type": "stream",
     "text": [
      "Fitting 2 folds for each of 10 candidates, totalling 20 fits\n"
     ]
    },
    {
     "name": "stderr",
     "output_type": "stream",
     "text": [
      "/opt/anaconda3/lib/python3.9/site-packages/sklearn/model_selection/_validation.py:770: UserWarning: Scoring failed. The score on this train-test partition for these parameters will be set to nan. Details: \n",
      "Traceback (most recent call last):\n",
      "  File \"/opt/anaconda3/lib/python3.9/site-packages/sklearn/model_selection/_validation.py\", line 761, in _score\n",
      "    scores = scorer(estimator, X_test, y_test)\n",
      "  File \"/opt/anaconda3/lib/python3.9/site-packages/sklearn/metrics/_scorer.py\", line 216, in __call__\n",
      "    return self._score(\n",
      "  File \"/opt/anaconda3/lib/python3.9/site-packages/sklearn/metrics/_scorer.py\", line 264, in _score\n",
      "    return self._sign * self._score_func(y_true, y_pred, **self._kwargs)\n",
      "  File \"/opt/anaconda3/lib/python3.9/site-packages/sklearn/metrics/_classification.py\", line 1123, in f1_score\n",
      "    return fbeta_score(\n",
      "  File \"/opt/anaconda3/lib/python3.9/site-packages/sklearn/metrics/_classification.py\", line 1261, in fbeta_score\n",
      "    _, _, f, _ = precision_recall_fscore_support(\n",
      "  File \"/opt/anaconda3/lib/python3.9/site-packages/sklearn/metrics/_classification.py\", line 1544, in precision_recall_fscore_support\n",
      "    labels = _check_set_wise_labels(y_true, y_pred, average, labels, pos_label)\n",
      "  File \"/opt/anaconda3/lib/python3.9/site-packages/sklearn/metrics/_classification.py\", line 1365, in _check_set_wise_labels\n",
      "    raise ValueError(\n",
      "ValueError: Target is multiclass but average='binary'. Please choose another average setting, one of [None, 'micro', 'macro', 'weighted'].\n",
      "\n",
      "  warnings.warn(\n",
      "/opt/anaconda3/lib/python3.9/site-packages/sklearn/model_selection/_validation.py:770: UserWarning: Scoring failed. The score on this train-test partition for these parameters will be set to nan. Details: \n",
      "Traceback (most recent call last):\n",
      "  File \"/opt/anaconda3/lib/python3.9/site-packages/sklearn/model_selection/_validation.py\", line 761, in _score\n",
      "    scores = scorer(estimator, X_test, y_test)\n",
      "  File \"/opt/anaconda3/lib/python3.9/site-packages/sklearn/metrics/_scorer.py\", line 216, in __call__\n",
      "    return self._score(\n",
      "  File \"/opt/anaconda3/lib/python3.9/site-packages/sklearn/metrics/_scorer.py\", line 264, in _score\n",
      "    return self._sign * self._score_func(y_true, y_pred, **self._kwargs)\n",
      "  File \"/opt/anaconda3/lib/python3.9/site-packages/sklearn/metrics/_classification.py\", line 1123, in f1_score\n",
      "    return fbeta_score(\n",
      "  File \"/opt/anaconda3/lib/python3.9/site-packages/sklearn/metrics/_classification.py\", line 1261, in fbeta_score\n",
      "    _, _, f, _ = precision_recall_fscore_support(\n",
      "  File \"/opt/anaconda3/lib/python3.9/site-packages/sklearn/metrics/_classification.py\", line 1544, in precision_recall_fscore_support\n",
      "    labels = _check_set_wise_labels(y_true, y_pred, average, labels, pos_label)\n",
      "  File \"/opt/anaconda3/lib/python3.9/site-packages/sklearn/metrics/_classification.py\", line 1365, in _check_set_wise_labels\n",
      "    raise ValueError(\n",
      "ValueError: Target is multiclass but average='binary'. Please choose another average setting, one of [None, 'micro', 'macro', 'weighted'].\n",
      "\n",
      "  warnings.warn(\n",
      "/opt/anaconda3/lib/python3.9/site-packages/sklearn/model_selection/_validation.py:770: UserWarning: Scoring failed. The score on this train-test partition for these parameters will be set to nan. Details: \n",
      "Traceback (most recent call last):\n",
      "  File \"/opt/anaconda3/lib/python3.9/site-packages/sklearn/model_selection/_validation.py\", line 761, in _score\n",
      "    scores = scorer(estimator, X_test, y_test)\n",
      "  File \"/opt/anaconda3/lib/python3.9/site-packages/sklearn/metrics/_scorer.py\", line 216, in __call__\n",
      "    return self._score(\n",
      "  File \"/opt/anaconda3/lib/python3.9/site-packages/sklearn/metrics/_scorer.py\", line 264, in _score\n",
      "    return self._sign * self._score_func(y_true, y_pred, **self._kwargs)\n",
      "  File \"/opt/anaconda3/lib/python3.9/site-packages/sklearn/metrics/_classification.py\", line 1123, in f1_score\n",
      "    return fbeta_score(\n",
      "  File \"/opt/anaconda3/lib/python3.9/site-packages/sklearn/metrics/_classification.py\", line 1261, in fbeta_score\n",
      "    _, _, f, _ = precision_recall_fscore_support(\n",
      "  File \"/opt/anaconda3/lib/python3.9/site-packages/sklearn/metrics/_classification.py\", line 1544, in precision_recall_fscore_support\n",
      "    labels = _check_set_wise_labels(y_true, y_pred, average, labels, pos_label)\n",
      "  File \"/opt/anaconda3/lib/python3.9/site-packages/sklearn/metrics/_classification.py\", line 1365, in _check_set_wise_labels\n",
      "    raise ValueError(\n",
      "ValueError: Target is multiclass but average='binary'. Please choose another average setting, one of [None, 'micro', 'macro', 'weighted'].\n",
      "\n",
      "  warnings.warn(\n",
      "/opt/anaconda3/lib/python3.9/site-packages/sklearn/model_selection/_validation.py:770: UserWarning: Scoring failed. The score on this train-test partition for these parameters will be set to nan. Details: \n",
      "Traceback (most recent call last):\n",
      "  File \"/opt/anaconda3/lib/python3.9/site-packages/sklearn/model_selection/_validation.py\", line 761, in _score\n",
      "    scores = scorer(estimator, X_test, y_test)\n",
      "  File \"/opt/anaconda3/lib/python3.9/site-packages/sklearn/metrics/_scorer.py\", line 216, in __call__\n",
      "    return self._score(\n",
      "  File \"/opt/anaconda3/lib/python3.9/site-packages/sklearn/metrics/_scorer.py\", line 264, in _score\n",
      "    return self._sign * self._score_func(y_true, y_pred, **self._kwargs)\n",
      "  File \"/opt/anaconda3/lib/python3.9/site-packages/sklearn/metrics/_classification.py\", line 1123, in f1_score\n",
      "    return fbeta_score(\n",
      "  File \"/opt/anaconda3/lib/python3.9/site-packages/sklearn/metrics/_classification.py\", line 1261, in fbeta_score\n",
      "    _, _, f, _ = precision_recall_fscore_support(\n",
      "  File \"/opt/anaconda3/lib/python3.9/site-packages/sklearn/metrics/_classification.py\", line 1544, in precision_recall_fscore_support\n",
      "    labels = _check_set_wise_labels(y_true, y_pred, average, labels, pos_label)\n",
      "  File \"/opt/anaconda3/lib/python3.9/site-packages/sklearn/metrics/_classification.py\", line 1365, in _check_set_wise_labels\n",
      "    raise ValueError(\n",
      "ValueError: Target is multiclass but average='binary'. Please choose another average setting, one of [None, 'micro', 'macro', 'weighted'].\n",
      "\n",
      "  warnings.warn(\n",
      "/opt/anaconda3/lib/python3.9/site-packages/sklearn/model_selection/_validation.py:770: UserWarning: Scoring failed. The score on this train-test partition for these parameters will be set to nan. Details: \n",
      "Traceback (most recent call last):\n",
      "  File \"/opt/anaconda3/lib/python3.9/site-packages/sklearn/model_selection/_validation.py\", line 761, in _score\n",
      "    scores = scorer(estimator, X_test, y_test)\n",
      "  File \"/opt/anaconda3/lib/python3.9/site-packages/sklearn/metrics/_scorer.py\", line 216, in __call__\n",
      "    return self._score(\n",
      "  File \"/opt/anaconda3/lib/python3.9/site-packages/sklearn/metrics/_scorer.py\", line 264, in _score\n",
      "    return self._sign * self._score_func(y_true, y_pred, **self._kwargs)\n",
      "  File \"/opt/anaconda3/lib/python3.9/site-packages/sklearn/metrics/_classification.py\", line 1123, in f1_score\n",
      "    return fbeta_score(\n",
      "  File \"/opt/anaconda3/lib/python3.9/site-packages/sklearn/metrics/_classification.py\", line 1261, in fbeta_score\n",
      "    _, _, f, _ = precision_recall_fscore_support(\n",
      "  File \"/opt/anaconda3/lib/python3.9/site-packages/sklearn/metrics/_classification.py\", line 1544, in precision_recall_fscore_support\n",
      "    labels = _check_set_wise_labels(y_true, y_pred, average, labels, pos_label)\n",
      "  File \"/opt/anaconda3/lib/python3.9/site-packages/sklearn/metrics/_classification.py\", line 1365, in _check_set_wise_labels\n",
      "    raise ValueError(\n",
      "ValueError: Target is multiclass but average='binary'. Please choose another average setting, one of [None, 'micro', 'macro', 'weighted'].\n",
      "\n",
      "  warnings.warn(\n",
      "/opt/anaconda3/lib/python3.9/site-packages/sklearn/model_selection/_validation.py:770: UserWarning: Scoring failed. The score on this train-test partition for these parameters will be set to nan. Details: \n",
      "Traceback (most recent call last):\n",
      "  File \"/opt/anaconda3/lib/python3.9/site-packages/sklearn/model_selection/_validation.py\", line 761, in _score\n",
      "    scores = scorer(estimator, X_test, y_test)\n",
      "  File \"/opt/anaconda3/lib/python3.9/site-packages/sklearn/metrics/_scorer.py\", line 216, in __call__\n",
      "    return self._score(\n",
      "  File \"/opt/anaconda3/lib/python3.9/site-packages/sklearn/metrics/_scorer.py\", line 264, in _score\n",
      "    return self._sign * self._score_func(y_true, y_pred, **self._kwargs)\n",
      "  File \"/opt/anaconda3/lib/python3.9/site-packages/sklearn/metrics/_classification.py\", line 1123, in f1_score\n",
      "    return fbeta_score(\n",
      "  File \"/opt/anaconda3/lib/python3.9/site-packages/sklearn/metrics/_classification.py\", line 1261, in fbeta_score\n",
      "    _, _, f, _ = precision_recall_fscore_support(\n",
      "  File \"/opt/anaconda3/lib/python3.9/site-packages/sklearn/metrics/_classification.py\", line 1544, in precision_recall_fscore_support\n",
      "    labels = _check_set_wise_labels(y_true, y_pred, average, labels, pos_label)\n",
      "  File \"/opt/anaconda3/lib/python3.9/site-packages/sklearn/metrics/_classification.py\", line 1365, in _check_set_wise_labels\n",
      "    raise ValueError(\n",
      "ValueError: Target is multiclass but average='binary'. Please choose another average setting, one of [None, 'micro', 'macro', 'weighted'].\n",
      "\n",
      "  warnings.warn(\n"
     ]
    },
    {
     "name": "stderr",
     "output_type": "stream",
     "text": [
      "/opt/anaconda3/lib/python3.9/site-packages/sklearn/model_selection/_validation.py:770: UserWarning: Scoring failed. The score on this train-test partition for these parameters will be set to nan. Details: \n",
      "Traceback (most recent call last):\n",
      "  File \"/opt/anaconda3/lib/python3.9/site-packages/sklearn/model_selection/_validation.py\", line 761, in _score\n",
      "    scores = scorer(estimator, X_test, y_test)\n",
      "  File \"/opt/anaconda3/lib/python3.9/site-packages/sklearn/metrics/_scorer.py\", line 216, in __call__\n",
      "    return self._score(\n",
      "  File \"/opt/anaconda3/lib/python3.9/site-packages/sklearn/metrics/_scorer.py\", line 264, in _score\n",
      "    return self._sign * self._score_func(y_true, y_pred, **self._kwargs)\n",
      "  File \"/opt/anaconda3/lib/python3.9/site-packages/sklearn/metrics/_classification.py\", line 1123, in f1_score\n",
      "    return fbeta_score(\n",
      "  File \"/opt/anaconda3/lib/python3.9/site-packages/sklearn/metrics/_classification.py\", line 1261, in fbeta_score\n",
      "    _, _, f, _ = precision_recall_fscore_support(\n",
      "  File \"/opt/anaconda3/lib/python3.9/site-packages/sklearn/metrics/_classification.py\", line 1544, in precision_recall_fscore_support\n",
      "    labels = _check_set_wise_labels(y_true, y_pred, average, labels, pos_label)\n",
      "  File \"/opt/anaconda3/lib/python3.9/site-packages/sklearn/metrics/_classification.py\", line 1365, in _check_set_wise_labels\n",
      "    raise ValueError(\n",
      "ValueError: Target is multiclass but average='binary'. Please choose another average setting, one of [None, 'micro', 'macro', 'weighted'].\n",
      "\n",
      "  warnings.warn(\n",
      "/opt/anaconda3/lib/python3.9/site-packages/sklearn/model_selection/_validation.py:770: UserWarning: Scoring failed. The score on this train-test partition for these parameters will be set to nan. Details: \n",
      "Traceback (most recent call last):\n",
      "  File \"/opt/anaconda3/lib/python3.9/site-packages/sklearn/model_selection/_validation.py\", line 761, in _score\n",
      "    scores = scorer(estimator, X_test, y_test)\n",
      "  File \"/opt/anaconda3/lib/python3.9/site-packages/sklearn/metrics/_scorer.py\", line 216, in __call__\n",
      "    return self._score(\n",
      "  File \"/opt/anaconda3/lib/python3.9/site-packages/sklearn/metrics/_scorer.py\", line 264, in _score\n",
      "    return self._sign * self._score_func(y_true, y_pred, **self._kwargs)\n",
      "  File \"/opt/anaconda3/lib/python3.9/site-packages/sklearn/metrics/_classification.py\", line 1123, in f1_score\n",
      "    return fbeta_score(\n",
      "  File \"/opt/anaconda3/lib/python3.9/site-packages/sklearn/metrics/_classification.py\", line 1261, in fbeta_score\n",
      "    _, _, f, _ = precision_recall_fscore_support(\n",
      "  File \"/opt/anaconda3/lib/python3.9/site-packages/sklearn/metrics/_classification.py\", line 1544, in precision_recall_fscore_support\n",
      "    labels = _check_set_wise_labels(y_true, y_pred, average, labels, pos_label)\n",
      "  File \"/opt/anaconda3/lib/python3.9/site-packages/sklearn/metrics/_classification.py\", line 1365, in _check_set_wise_labels\n",
      "    raise ValueError(\n",
      "ValueError: Target is multiclass but average='binary'. Please choose another average setting, one of [None, 'micro', 'macro', 'weighted'].\n",
      "\n",
      "  warnings.warn(\n",
      "/opt/anaconda3/lib/python3.9/site-packages/sklearn/model_selection/_validation.py:770: UserWarning: Scoring failed. The score on this train-test partition for these parameters will be set to nan. Details: \n",
      "Traceback (most recent call last):\n",
      "  File \"/opt/anaconda3/lib/python3.9/site-packages/sklearn/model_selection/_validation.py\", line 761, in _score\n",
      "    scores = scorer(estimator, X_test, y_test)\n",
      "  File \"/opt/anaconda3/lib/python3.9/site-packages/sklearn/metrics/_scorer.py\", line 216, in __call__\n",
      "    return self._score(\n",
      "  File \"/opt/anaconda3/lib/python3.9/site-packages/sklearn/metrics/_scorer.py\", line 264, in _score\n",
      "    return self._sign * self._score_func(y_true, y_pred, **self._kwargs)\n",
      "  File \"/opt/anaconda3/lib/python3.9/site-packages/sklearn/metrics/_classification.py\", line 1123, in f1_score\n",
      "    return fbeta_score(\n",
      "  File \"/opt/anaconda3/lib/python3.9/site-packages/sklearn/metrics/_classification.py\", line 1261, in fbeta_score\n",
      "    _, _, f, _ = precision_recall_fscore_support(\n",
      "  File \"/opt/anaconda3/lib/python3.9/site-packages/sklearn/metrics/_classification.py\", line 1544, in precision_recall_fscore_support\n",
      "    labels = _check_set_wise_labels(y_true, y_pred, average, labels, pos_label)\n",
      "  File \"/opt/anaconda3/lib/python3.9/site-packages/sklearn/metrics/_classification.py\", line 1365, in _check_set_wise_labels\n",
      "    raise ValueError(\n",
      "ValueError: Target is multiclass but average='binary'. Please choose another average setting, one of [None, 'micro', 'macro', 'weighted'].\n",
      "\n",
      "  warnings.warn(\n",
      "/opt/anaconda3/lib/python3.9/site-packages/sklearn/model_selection/_validation.py:770: UserWarning: Scoring failed. The score on this train-test partition for these parameters will be set to nan. Details: \n",
      "Traceback (most recent call last):\n",
      "  File \"/opt/anaconda3/lib/python3.9/site-packages/sklearn/model_selection/_validation.py\", line 761, in _score\n",
      "    scores = scorer(estimator, X_test, y_test)\n",
      "  File \"/opt/anaconda3/lib/python3.9/site-packages/sklearn/metrics/_scorer.py\", line 216, in __call__\n",
      "    return self._score(\n",
      "  File \"/opt/anaconda3/lib/python3.9/site-packages/sklearn/metrics/_scorer.py\", line 264, in _score\n",
      "    return self._sign * self._score_func(y_true, y_pred, **self._kwargs)\n",
      "  File \"/opt/anaconda3/lib/python3.9/site-packages/sklearn/metrics/_classification.py\", line 1123, in f1_score\n",
      "    return fbeta_score(\n",
      "  File \"/opt/anaconda3/lib/python3.9/site-packages/sklearn/metrics/_classification.py\", line 1261, in fbeta_score\n",
      "    _, _, f, _ = precision_recall_fscore_support(\n",
      "  File \"/opt/anaconda3/lib/python3.9/site-packages/sklearn/metrics/_classification.py\", line 1544, in precision_recall_fscore_support\n",
      "    labels = _check_set_wise_labels(y_true, y_pred, average, labels, pos_label)\n",
      "  File \"/opt/anaconda3/lib/python3.9/site-packages/sklearn/metrics/_classification.py\", line 1365, in _check_set_wise_labels\n",
      "    raise ValueError(\n",
      "ValueError: Target is multiclass but average='binary'. Please choose another average setting, one of [None, 'micro', 'macro', 'weighted'].\n",
      "\n",
      "  warnings.warn(\n",
      "/opt/anaconda3/lib/python3.9/site-packages/sklearn/model_selection/_validation.py:770: UserWarning: Scoring failed. The score on this train-test partition for these parameters will be set to nan. Details: \n",
      "Traceback (most recent call last):\n",
      "  File \"/opt/anaconda3/lib/python3.9/site-packages/sklearn/model_selection/_validation.py\", line 761, in _score\n",
      "    scores = scorer(estimator, X_test, y_test)\n",
      "  File \"/opt/anaconda3/lib/python3.9/site-packages/sklearn/metrics/_scorer.py\", line 216, in __call__\n",
      "    return self._score(\n",
      "  File \"/opt/anaconda3/lib/python3.9/site-packages/sklearn/metrics/_scorer.py\", line 264, in _score\n",
      "    return self._sign * self._score_func(y_true, y_pred, **self._kwargs)\n",
      "  File \"/opt/anaconda3/lib/python3.9/site-packages/sklearn/metrics/_classification.py\", line 1123, in f1_score\n",
      "    return fbeta_score(\n",
      "  File \"/opt/anaconda3/lib/python3.9/site-packages/sklearn/metrics/_classification.py\", line 1261, in fbeta_score\n",
      "    _, _, f, _ = precision_recall_fscore_support(\n",
      "  File \"/opt/anaconda3/lib/python3.9/site-packages/sklearn/metrics/_classification.py\", line 1544, in precision_recall_fscore_support\n",
      "    labels = _check_set_wise_labels(y_true, y_pred, average, labels, pos_label)\n",
      "  File \"/opt/anaconda3/lib/python3.9/site-packages/sklearn/metrics/_classification.py\", line 1365, in _check_set_wise_labels\n",
      "    raise ValueError(\n",
      "ValueError: Target is multiclass but average='binary'. Please choose another average setting, one of [None, 'micro', 'macro', 'weighted'].\n",
      "\n",
      "  warnings.warn(\n",
      "/opt/anaconda3/lib/python3.9/site-packages/sklearn/model_selection/_validation.py:770: UserWarning: Scoring failed. The score on this train-test partition for these parameters will be set to nan. Details: \n",
      "Traceback (most recent call last):\n",
      "  File \"/opt/anaconda3/lib/python3.9/site-packages/sklearn/model_selection/_validation.py\", line 761, in _score\n",
      "    scores = scorer(estimator, X_test, y_test)\n",
      "  File \"/opt/anaconda3/lib/python3.9/site-packages/sklearn/metrics/_scorer.py\", line 216, in __call__\n",
      "    return self._score(\n",
      "  File \"/opt/anaconda3/lib/python3.9/site-packages/sklearn/metrics/_scorer.py\", line 264, in _score\n",
      "    return self._sign * self._score_func(y_true, y_pred, **self._kwargs)\n",
      "  File \"/opt/anaconda3/lib/python3.9/site-packages/sklearn/metrics/_classification.py\", line 1123, in f1_score\n",
      "    return fbeta_score(\n",
      "  File \"/opt/anaconda3/lib/python3.9/site-packages/sklearn/metrics/_classification.py\", line 1261, in fbeta_score\n",
      "    _, _, f, _ = precision_recall_fscore_support(\n",
      "  File \"/opt/anaconda3/lib/python3.9/site-packages/sklearn/metrics/_classification.py\", line 1544, in precision_recall_fscore_support\n",
      "    labels = _check_set_wise_labels(y_true, y_pred, average, labels, pos_label)\n",
      "  File \"/opt/anaconda3/lib/python3.9/site-packages/sklearn/metrics/_classification.py\", line 1365, in _check_set_wise_labels\n",
      "    raise ValueError(\n",
      "ValueError: Target is multiclass but average='binary'. Please choose another average setting, one of [None, 'micro', 'macro', 'weighted'].\n",
      "\n",
      "  warnings.warn(\n"
     ]
    },
    {
     "name": "stderr",
     "output_type": "stream",
     "text": [
      "/opt/anaconda3/lib/python3.9/site-packages/sklearn/model_selection/_validation.py:770: UserWarning: Scoring failed. The score on this train-test partition for these parameters will be set to nan. Details: \n",
      "Traceback (most recent call last):\n",
      "  File \"/opt/anaconda3/lib/python3.9/site-packages/sklearn/model_selection/_validation.py\", line 761, in _score\n",
      "    scores = scorer(estimator, X_test, y_test)\n",
      "  File \"/opt/anaconda3/lib/python3.9/site-packages/sklearn/metrics/_scorer.py\", line 216, in __call__\n",
      "    return self._score(\n",
      "  File \"/opt/anaconda3/lib/python3.9/site-packages/sklearn/metrics/_scorer.py\", line 264, in _score\n",
      "    return self._sign * self._score_func(y_true, y_pred, **self._kwargs)\n",
      "  File \"/opt/anaconda3/lib/python3.9/site-packages/sklearn/metrics/_classification.py\", line 1123, in f1_score\n",
      "    return fbeta_score(\n",
      "  File \"/opt/anaconda3/lib/python3.9/site-packages/sklearn/metrics/_classification.py\", line 1261, in fbeta_score\n",
      "    _, _, f, _ = precision_recall_fscore_support(\n",
      "  File \"/opt/anaconda3/lib/python3.9/site-packages/sklearn/metrics/_classification.py\", line 1544, in precision_recall_fscore_support\n",
      "    labels = _check_set_wise_labels(y_true, y_pred, average, labels, pos_label)\n",
      "  File \"/opt/anaconda3/lib/python3.9/site-packages/sklearn/metrics/_classification.py\", line 1365, in _check_set_wise_labels\n",
      "    raise ValueError(\n",
      "ValueError: Target is multiclass but average='binary'. Please choose another average setting, one of [None, 'micro', 'macro', 'weighted'].\n",
      "\n",
      "  warnings.warn(\n",
      "/opt/anaconda3/lib/python3.9/site-packages/sklearn/model_selection/_validation.py:770: UserWarning: Scoring failed. The score on this train-test partition for these parameters will be set to nan. Details: \n",
      "Traceback (most recent call last):\n",
      "  File \"/opt/anaconda3/lib/python3.9/site-packages/sklearn/model_selection/_validation.py\", line 761, in _score\n",
      "    scores = scorer(estimator, X_test, y_test)\n",
      "  File \"/opt/anaconda3/lib/python3.9/site-packages/sklearn/metrics/_scorer.py\", line 216, in __call__\n",
      "    return self._score(\n",
      "  File \"/opt/anaconda3/lib/python3.9/site-packages/sklearn/metrics/_scorer.py\", line 264, in _score\n",
      "    return self._sign * self._score_func(y_true, y_pred, **self._kwargs)\n",
      "  File \"/opt/anaconda3/lib/python3.9/site-packages/sklearn/metrics/_classification.py\", line 1123, in f1_score\n",
      "    return fbeta_score(\n",
      "  File \"/opt/anaconda3/lib/python3.9/site-packages/sklearn/metrics/_classification.py\", line 1261, in fbeta_score\n",
      "    _, _, f, _ = precision_recall_fscore_support(\n",
      "  File \"/opt/anaconda3/lib/python3.9/site-packages/sklearn/metrics/_classification.py\", line 1544, in precision_recall_fscore_support\n",
      "    labels = _check_set_wise_labels(y_true, y_pred, average, labels, pos_label)\n",
      "  File \"/opt/anaconda3/lib/python3.9/site-packages/sklearn/metrics/_classification.py\", line 1365, in _check_set_wise_labels\n",
      "    raise ValueError(\n",
      "ValueError: Target is multiclass but average='binary'. Please choose another average setting, one of [None, 'micro', 'macro', 'weighted'].\n",
      "\n",
      "  warnings.warn(\n",
      "/opt/anaconda3/lib/python3.9/site-packages/sklearn/model_selection/_validation.py:770: UserWarning: Scoring failed. The score on this train-test partition for these parameters will be set to nan. Details: \n",
      "Traceback (most recent call last):\n",
      "  File \"/opt/anaconda3/lib/python3.9/site-packages/sklearn/model_selection/_validation.py\", line 761, in _score\n",
      "    scores = scorer(estimator, X_test, y_test)\n",
      "  File \"/opt/anaconda3/lib/python3.9/site-packages/sklearn/metrics/_scorer.py\", line 216, in __call__\n",
      "    return self._score(\n",
      "  File \"/opt/anaconda3/lib/python3.9/site-packages/sklearn/metrics/_scorer.py\", line 264, in _score\n",
      "    return self._sign * self._score_func(y_true, y_pred, **self._kwargs)\n",
      "  File \"/opt/anaconda3/lib/python3.9/site-packages/sklearn/metrics/_classification.py\", line 1123, in f1_score\n",
      "    return fbeta_score(\n",
      "  File \"/opt/anaconda3/lib/python3.9/site-packages/sklearn/metrics/_classification.py\", line 1261, in fbeta_score\n",
      "    _, _, f, _ = precision_recall_fscore_support(\n",
      "  File \"/opt/anaconda3/lib/python3.9/site-packages/sklearn/metrics/_classification.py\", line 1544, in precision_recall_fscore_support\n",
      "    labels = _check_set_wise_labels(y_true, y_pred, average, labels, pos_label)\n",
      "  File \"/opt/anaconda3/lib/python3.9/site-packages/sklearn/metrics/_classification.py\", line 1365, in _check_set_wise_labels\n",
      "    raise ValueError(\n",
      "ValueError: Target is multiclass but average='binary'. Please choose another average setting, one of [None, 'micro', 'macro', 'weighted'].\n",
      "\n",
      "  warnings.warn(\n",
      "/opt/anaconda3/lib/python3.9/site-packages/sklearn/model_selection/_validation.py:770: UserWarning: Scoring failed. The score on this train-test partition for these parameters will be set to nan. Details: \n",
      "Traceback (most recent call last):\n",
      "  File \"/opt/anaconda3/lib/python3.9/site-packages/sklearn/model_selection/_validation.py\", line 761, in _score\n",
      "    scores = scorer(estimator, X_test, y_test)\n",
      "  File \"/opt/anaconda3/lib/python3.9/site-packages/sklearn/metrics/_scorer.py\", line 216, in __call__\n",
      "    return self._score(\n",
      "  File \"/opt/anaconda3/lib/python3.9/site-packages/sklearn/metrics/_scorer.py\", line 264, in _score\n",
      "    return self._sign * self._score_func(y_true, y_pred, **self._kwargs)\n",
      "  File \"/opt/anaconda3/lib/python3.9/site-packages/sklearn/metrics/_classification.py\", line 1123, in f1_score\n",
      "    return fbeta_score(\n",
      "  File \"/opt/anaconda3/lib/python3.9/site-packages/sklearn/metrics/_classification.py\", line 1261, in fbeta_score\n",
      "    _, _, f, _ = precision_recall_fscore_support(\n",
      "  File \"/opt/anaconda3/lib/python3.9/site-packages/sklearn/metrics/_classification.py\", line 1544, in precision_recall_fscore_support\n",
      "    labels = _check_set_wise_labels(y_true, y_pred, average, labels, pos_label)\n",
      "  File \"/opt/anaconda3/lib/python3.9/site-packages/sklearn/metrics/_classification.py\", line 1365, in _check_set_wise_labels\n",
      "    raise ValueError(\n",
      "ValueError: Target is multiclass but average='binary'. Please choose another average setting, one of [None, 'micro', 'macro', 'weighted'].\n",
      "\n",
      "  warnings.warn(\n",
      "/opt/anaconda3/lib/python3.9/site-packages/sklearn/model_selection/_validation.py:770: UserWarning: Scoring failed. The score on this train-test partition for these parameters will be set to nan. Details: \n",
      "Traceback (most recent call last):\n",
      "  File \"/opt/anaconda3/lib/python3.9/site-packages/sklearn/model_selection/_validation.py\", line 761, in _score\n",
      "    scores = scorer(estimator, X_test, y_test)\n",
      "  File \"/opt/anaconda3/lib/python3.9/site-packages/sklearn/metrics/_scorer.py\", line 216, in __call__\n",
      "    return self._score(\n",
      "  File \"/opt/anaconda3/lib/python3.9/site-packages/sklearn/metrics/_scorer.py\", line 264, in _score\n",
      "    return self._sign * self._score_func(y_true, y_pred, **self._kwargs)\n",
      "  File \"/opt/anaconda3/lib/python3.9/site-packages/sklearn/metrics/_classification.py\", line 1123, in f1_score\n",
      "    return fbeta_score(\n",
      "  File \"/opt/anaconda3/lib/python3.9/site-packages/sklearn/metrics/_classification.py\", line 1261, in fbeta_score\n",
      "    _, _, f, _ = precision_recall_fscore_support(\n",
      "  File \"/opt/anaconda3/lib/python3.9/site-packages/sklearn/metrics/_classification.py\", line 1544, in precision_recall_fscore_support\n",
      "    labels = _check_set_wise_labels(y_true, y_pred, average, labels, pos_label)\n",
      "  File \"/opt/anaconda3/lib/python3.9/site-packages/sklearn/metrics/_classification.py\", line 1365, in _check_set_wise_labels\n",
      "    raise ValueError(\n",
      "ValueError: Target is multiclass but average='binary'. Please choose another average setting, one of [None, 'micro', 'macro', 'weighted'].\n",
      "\n",
      "  warnings.warn(\n",
      "/opt/anaconda3/lib/python3.9/site-packages/sklearn/model_selection/_validation.py:770: UserWarning: Scoring failed. The score on this train-test partition for these parameters will be set to nan. Details: \n",
      "Traceback (most recent call last):\n",
      "  File \"/opt/anaconda3/lib/python3.9/site-packages/sklearn/model_selection/_validation.py\", line 761, in _score\n",
      "    scores = scorer(estimator, X_test, y_test)\n",
      "  File \"/opt/anaconda3/lib/python3.9/site-packages/sklearn/metrics/_scorer.py\", line 216, in __call__\n",
      "    return self._score(\n",
      "  File \"/opt/anaconda3/lib/python3.9/site-packages/sklearn/metrics/_scorer.py\", line 264, in _score\n",
      "    return self._sign * self._score_func(y_true, y_pred, **self._kwargs)\n",
      "  File \"/opt/anaconda3/lib/python3.9/site-packages/sklearn/metrics/_classification.py\", line 1123, in f1_score\n",
      "    return fbeta_score(\n",
      "  File \"/opt/anaconda3/lib/python3.9/site-packages/sklearn/metrics/_classification.py\", line 1261, in fbeta_score\n",
      "    _, _, f, _ = precision_recall_fscore_support(\n",
      "  File \"/opt/anaconda3/lib/python3.9/site-packages/sklearn/metrics/_classification.py\", line 1544, in precision_recall_fscore_support\n",
      "    labels = _check_set_wise_labels(y_true, y_pred, average, labels, pos_label)\n",
      "  File \"/opt/anaconda3/lib/python3.9/site-packages/sklearn/metrics/_classification.py\", line 1365, in _check_set_wise_labels\n",
      "    raise ValueError(\n",
      "ValueError: Target is multiclass but average='binary'. Please choose another average setting, one of [None, 'micro', 'macro', 'weighted'].\n",
      "\n",
      "  warnings.warn(\n"
     ]
    },
    {
     "name": "stderr",
     "output_type": "stream",
     "text": [
      "/opt/anaconda3/lib/python3.9/site-packages/sklearn/model_selection/_validation.py:770: UserWarning: Scoring failed. The score on this train-test partition for these parameters will be set to nan. Details: \n",
      "Traceback (most recent call last):\n",
      "  File \"/opt/anaconda3/lib/python3.9/site-packages/sklearn/model_selection/_validation.py\", line 761, in _score\n",
      "    scores = scorer(estimator, X_test, y_test)\n",
      "  File \"/opt/anaconda3/lib/python3.9/site-packages/sklearn/metrics/_scorer.py\", line 216, in __call__\n",
      "    return self._score(\n",
      "  File \"/opt/anaconda3/lib/python3.9/site-packages/sklearn/metrics/_scorer.py\", line 264, in _score\n",
      "    return self._sign * self._score_func(y_true, y_pred, **self._kwargs)\n",
      "  File \"/opt/anaconda3/lib/python3.9/site-packages/sklearn/metrics/_classification.py\", line 1123, in f1_score\n",
      "    return fbeta_score(\n",
      "  File \"/opt/anaconda3/lib/python3.9/site-packages/sklearn/metrics/_classification.py\", line 1261, in fbeta_score\n",
      "    _, _, f, _ = precision_recall_fscore_support(\n",
      "  File \"/opt/anaconda3/lib/python3.9/site-packages/sklearn/metrics/_classification.py\", line 1544, in precision_recall_fscore_support\n",
      "    labels = _check_set_wise_labels(y_true, y_pred, average, labels, pos_label)\n",
      "  File \"/opt/anaconda3/lib/python3.9/site-packages/sklearn/metrics/_classification.py\", line 1365, in _check_set_wise_labels\n",
      "    raise ValueError(\n",
      "ValueError: Target is multiclass but average='binary'. Please choose another average setting, one of [None, 'micro', 'macro', 'weighted'].\n",
      "\n",
      "  warnings.warn(\n",
      "/opt/anaconda3/lib/python3.9/site-packages/sklearn/model_selection/_validation.py:770: UserWarning: Scoring failed. The score on this train-test partition for these parameters will be set to nan. Details: \n",
      "Traceback (most recent call last):\n",
      "  File \"/opt/anaconda3/lib/python3.9/site-packages/sklearn/model_selection/_validation.py\", line 761, in _score\n",
      "    scores = scorer(estimator, X_test, y_test)\n",
      "  File \"/opt/anaconda3/lib/python3.9/site-packages/sklearn/metrics/_scorer.py\", line 216, in __call__\n",
      "    return self._score(\n",
      "  File \"/opt/anaconda3/lib/python3.9/site-packages/sklearn/metrics/_scorer.py\", line 264, in _score\n",
      "    return self._sign * self._score_func(y_true, y_pred, **self._kwargs)\n",
      "  File \"/opt/anaconda3/lib/python3.9/site-packages/sklearn/metrics/_classification.py\", line 1123, in f1_score\n",
      "    return fbeta_score(\n",
      "  File \"/opt/anaconda3/lib/python3.9/site-packages/sklearn/metrics/_classification.py\", line 1261, in fbeta_score\n",
      "    _, _, f, _ = precision_recall_fscore_support(\n",
      "  File \"/opt/anaconda3/lib/python3.9/site-packages/sklearn/metrics/_classification.py\", line 1544, in precision_recall_fscore_support\n",
      "    labels = _check_set_wise_labels(y_true, y_pred, average, labels, pos_label)\n",
      "  File \"/opt/anaconda3/lib/python3.9/site-packages/sklearn/metrics/_classification.py\", line 1365, in _check_set_wise_labels\n",
      "    raise ValueError(\n",
      "ValueError: Target is multiclass but average='binary'. Please choose another average setting, one of [None, 'micro', 'macro', 'weighted'].\n",
      "\n",
      "  warnings.warn(\n"
     ]
    },
    {
     "name": "stdout",
     "output_type": "stream",
     "text": [
      "Best parameter: {'n_estimators': 311, 'min_samples_split': 5, 'min_samples_leaf': 3, 'max_features': 'auto', 'max_depth': 37}\n"
     ]
    }
   ],
   "source": [
    "#In random forest we are not used grid search CV because of memory reason.\n",
    "\n",
    "n_estimators = [int(x) for x in np.linspace(start=100 ,stop=2000, num=10)] #No of decision tree in forest\n",
    "max_features = ['auto', 'sqrt'] #Max no of feature consider to create decision tree\n",
    "max_depth    = [int(x) for x in np.linspace(10,100,num=11)] #Max no of level in each decision tree\n",
    "max_depth.append(None)\n",
    "min_samples_split = [2,3,5,8] #Min number of data points placed in a node before the node is split\n",
    "min_samples_leaf  = [1,2,3,4]  #Min number of data point allowed in leaf node\n",
    "\n",
    "# Creating dictionary of paramter\n",
    "random_grid = {'n_estimators': n_estimators, 'max_features': max_features,\n",
    "               'max_depth': max_depth, 'min_samples_split': min_samples_split,\n",
    "               'min_samples_leaf': min_samples_leaf}\n",
    "\n",
    "# Object creation\n",
    "rf_clf = RandomForestClassifier(random_state=42) #Provide random state because select rows and columns randomly\n",
    "\n",
    "# Create Random search CV with parameter\n",
    "rf_cv = RandomizedSearchCV(estimator=rf_clf,scoring='f1',param_distributions=random_grid,\n",
    "                           n_iter=10,cv=2,verbose=2,random_state=1,n_jobs=-1)\n",
    "\n",
    "# Fitting the training data\n",
    "rf_cv.fit(X_train,y_train)\n",
    "\n",
    "# Get best parameter\n",
    "rf_best_params = rf_cv.best_params_\n",
    "print(f\"Best parameter: {rf_best_params}\")\n"
   ]
  },
  {
   "cell_type": "code",
   "execution_count": 24,
   "id": "696a4f2a",
   "metadata": {},
   "outputs": [],
   "source": [
    "# Create object and place the best paramter\n",
    "rf_clf1 = RandomForestClassifier(**rf_best_params)\n",
    "\n",
    "# Fitting the training data\n",
    "rf_clf1.fit(X_train,y_train)\n",
    "\n",
    "# Prediction on test data\n",
    "rf_clf1_predict = rf_clf1.predict(X_test)"
   ]
  },
  {
   "cell_type": "markdown",
   "id": "c7ed6fd6",
   "metadata": {},
   "source": [
    "#### TEST ACCURACY AFTER HYPER-PARAMETER TUNNING"
   ]
  },
  {
   "cell_type": "code",
   "execution_count": 25,
   "id": "4acc3aac",
   "metadata": {},
   "outputs": [
    {
     "name": "stdout",
     "output_type": "stream",
     "text": [
      "Accuracy after hyperparameter tunning 93.52380952380952\n",
      "Classification report: \n",
      "               precision    recall  f1-score   support\n",
      "\n",
      "           2       0.93      0.96      0.95       179\n",
      "           3       0.91      0.90      0.90       175\n",
      "           4       0.96      0.95      0.96       171\n",
      "\n",
      "    accuracy                           0.94       525\n",
      "   macro avg       0.94      0.94      0.94       525\n",
      "weighted avg       0.94      0.94      0.94       525\n",
      "\n"
     ]
    }
   ],
   "source": [
    "rf_accuracy = accuracy_score(rf_clf1_predict,y_test)\n",
    "print(\"Accuracy after hyperparameter tunning\",rf_accuracy*100)\n",
    "print(\"Classification report: \\n\",classification_report(rf_clf1_predict,y_test))"
   ]
  },
  {
   "cell_type": "markdown",
   "id": "6cab89c1",
   "metadata": {},
   "source": [
    "* After hyperparameter tunning score is not increases."
   ]
  },
  {
   "cell_type": "markdown",
   "id": "1e53b6f1",
   "metadata": {},
   "source": [
    "### 4.Artificial Neural Network [MLP Classifier]"
   ]
  },
  {
   "cell_type": "code",
   "execution_count": 26,
   "id": "a1ea0caf",
   "metadata": {},
   "outputs": [],
   "source": [
    "model = MLPClassifier(hidden_layer_sizes=(60,3),\n",
    "                      learning_rate='constant',\n",
    "                      max_iter=250,\n",
    "                      random_state=42)"
   ]
  },
  {
   "cell_type": "code",
   "execution_count": 27,
   "id": "ac66d6cd",
   "metadata": {},
   "outputs": [
    {
     "data": {
      "text/plain": [
       "MLPClassifier(hidden_layer_sizes=(60, 3), max_iter=250, random_state=42)"
      ]
     },
     "execution_count": 27,
     "metadata": {},
     "output_type": "execute_result"
    }
   ],
   "source": [
    "# Fitting the training data\n",
    "model.fit(X_train,y_train)"
   ]
  },
  {
   "cell_type": "code",
   "execution_count": 28,
   "id": "485b5a19",
   "metadata": {},
   "outputs": [
    {
     "data": {
      "text/plain": [
       "array([[2.67157403e-05, 9.99962021e-01, 1.12634313e-05],\n",
       "       [3.55533356e-06, 9.99745776e-01, 2.50668450e-04],\n",
       "       [9.86043464e-01, 1.39336707e-02, 2.28655609e-05],\n",
       "       ...,\n",
       "       [9.90814054e-01, 9.17978828e-03, 6.15742517e-06],\n",
       "       [9.34316927e-01, 6.52083511e-02, 4.74721978e-04],\n",
       "       [1.43185133e-18, 1.66202646e-08, 9.99999983e-01]])"
      ]
     },
     "execution_count": 28,
     "metadata": {},
     "output_type": "execute_result"
    }
   ],
   "source": [
    "# Predicting the probability\n",
    "mlp_prdict_probability = model.predict_proba(X_test)\n",
    "mlp_prdict_probability"
   ]
  },
  {
   "cell_type": "code",
   "execution_count": 29,
   "id": "c7824bb6",
   "metadata": {},
   "outputs": [],
   "source": [
    "# Prediction on test data\n",
    "mlp_test_predict = model.predict(X_test)\n",
    "\n",
    "# Prediction on training data\n",
    "mlp_train_predict = model.predict(X_train)"
   ]
  },
  {
   "cell_type": "markdown",
   "id": "27663e6f",
   "metadata": {},
   "source": [
    "#### TRAINING ACCURACY"
   ]
  },
  {
   "cell_type": "code",
   "execution_count": 30,
   "id": "58e62c13",
   "metadata": {},
   "outputs": [
    {
     "name": "stdout",
     "output_type": "stream",
     "text": [
      "Training accuracy of MLP model is: 99.4277539341917\n",
      "Classification report of training:\n",
      "               precision    recall  f1-score   support\n",
      "\n",
      "           2       1.00      0.98      0.99       702\n",
      "           3       0.98      1.00      0.99       689\n",
      "           4       1.00      1.00      1.00       706\n",
      "\n",
      "    accuracy                           0.99      2097\n",
      "   macro avg       0.99      0.99      0.99      2097\n",
      "weighted avg       0.99      0.99      0.99      2097\n",
      "\n"
     ]
    }
   ],
   "source": [
    "mlp_train_accuracy = accuracy_score(mlp_train_predict,y_train)\n",
    "print(\"Training accuracy of MLP model is:\",mlp_train_accuracy*100)\n",
    "print(\"Classification report of training:\"'\\n',classification_report(mlp_train_predict,y_train))"
   ]
  },
  {
   "cell_type": "markdown",
   "id": "c613e456",
   "metadata": {},
   "source": [
    "* Multilayer percepton Perform well on training data."
   ]
  },
  {
   "cell_type": "markdown",
   "id": "f06520c4",
   "metadata": {},
   "source": [
    "#### TESTING ACCURACY"
   ]
  },
  {
   "cell_type": "code",
   "execution_count": 31,
   "id": "30514bd3",
   "metadata": {},
   "outputs": [
    {
     "name": "stdout",
     "output_type": "stream",
     "text": [
      "Testing accuracy of MLP model is: 95.80952380952381\n",
      "Classification report of testing:\n",
      "               precision    recall  f1-score   support\n",
      "\n",
      "           2       0.98      0.95      0.97       191\n",
      "           3       0.89      0.98      0.93       157\n",
      "           4       1.00      0.95      0.97       177\n",
      "\n",
      "    accuracy                           0.96       525\n",
      "   macro avg       0.96      0.96      0.96       525\n",
      "weighted avg       0.96      0.96      0.96       525\n",
      "\n",
      "[CV] END max_depth=10, max_features=sqrt, min_samples_leaf=2, min_samples_split=8, n_estimators=1155; total time=  10.3s\n",
      "[CV] END max_depth=None, max_features=sqrt, min_samples_leaf=4, min_samples_split=8, n_estimators=2000; total time=  20.4s\n",
      "[CV] END max_depth=None, max_features=sqrt, min_samples_leaf=1, min_samples_split=8, n_estimators=1577; total time=  17.8s\n",
      "[CV] END max_depth=37, max_features=auto, min_samples_leaf=1, min_samples_split=2, n_estimators=100; total time=   1.5s\n",
      "[CV] END max_depth=10, max_features=sqrt, min_samples_leaf=2, min_samples_split=8, n_estimators=1155; total time=  10.3s\n",
      "[CV] END max_depth=None, max_features=sqrt, min_samples_leaf=4, min_samples_split=8, n_estimators=2000; total time=  20.6s\n",
      "[CV] END max_depth=None, max_features=sqrt, min_samples_leaf=1, min_samples_split=8, n_estimators=1577; total time=  17.7s\n",
      "[CV] END max_depth=37, max_features=auto, min_samples_leaf=1, min_samples_split=2, n_estimators=100; total time=   1.6s\n",
      "[CV] END max_depth=37, max_features=auto, min_samples_leaf=3, min_samples_split=5, n_estimators=311; total time=   2.9s\n",
      "[CV] END max_depth=37, max_features=auto, min_samples_leaf=4, min_samples_split=3, n_estimators=1366; total time=  12.1s\n",
      "[CV] END max_depth=28, max_features=sqrt, min_samples_leaf=3, min_samples_split=5, n_estimators=1155; total time=  12.4s\n",
      "[CV] END max_depth=82, max_features=sqrt, min_samples_leaf=2, min_samples_split=2, n_estimators=733; total time=   8.0s\n",
      "[CV] END max_depth=91, max_features=auto, min_samples_leaf=1, min_samples_split=3, n_estimators=1155; total time=  13.9s\n",
      "[CV] END max_depth=10, max_features=auto, min_samples_leaf=4, min_samples_split=5, n_estimators=944; total time=   6.0s\n",
      "[CV] END max_depth=37, max_features=auto, min_samples_leaf=3, min_samples_split=5, n_estimators=311; total time=   2.9s\n",
      "[CV] END max_depth=37, max_features=auto, min_samples_leaf=4, min_samples_split=3, n_estimators=1366; total time=  12.2s\n",
      "[CV] END max_depth=28, max_features=sqrt, min_samples_leaf=3, min_samples_split=5, n_estimators=1155; total time=  12.3s\n",
      "[CV] END max_depth=82, max_features=sqrt, min_samples_leaf=2, min_samples_split=2, n_estimators=733; total time=   8.0s\n",
      "[CV] END max_depth=91, max_features=auto, min_samples_leaf=1, min_samples_split=3, n_estimators=1155; total time=  13.9s\n",
      "[CV] END max_depth=10, max_features=auto, min_samples_leaf=4, min_samples_split=5, n_estimators=944; total time=   6.0s\n"
     ]
    }
   ],
   "source": [
    "mlp_test_accuracy = accuracy_score(mlp_test_predict,y_test)\n",
    "print(\"Testing accuracy of MLP model is:\",mlp_test_accuracy*100)\n",
    "print(\"Classification report of testing:\"'\\n',classification_report(mlp_test_predict,y_test))"
   ]
  },
  {
   "cell_type": "code",
   "execution_count": 43,
   "id": "d083a63d",
   "metadata": {},
   "outputs": [
    {
     "data": {
      "text/plain": [
       "array([[181,   3,   0],\n",
       "       [ 10, 154,   9],\n",
       "       [  0,   0, 168]])"
      ]
     },
     "execution_count": 43,
     "metadata": {},
     "output_type": "execute_result"
    }
   ],
   "source": [
    "confusion_matrix(y_test,mlp_test_predict)"
   ]
  },
  {
   "cell_type": "markdown",
   "id": "f173c8cb",
   "metadata": {},
   "source": [
    "* Multilayer percepton perform well on testing data"
   ]
  },
  {
   "cell_type": "markdown",
   "id": "ebf53fc6",
   "metadata": {},
   "source": [
    "## 5. Naive Bayes Bernoulli"
   ]
  },
  {
   "cell_type": "code",
   "execution_count": 32,
   "id": "bdeab223",
   "metadata": {},
   "outputs": [
    {
     "data": {
      "text/plain": [
       "BernoulliNB()"
      ]
     },
     "execution_count": 32,
     "metadata": {},
     "output_type": "execute_result"
    }
   ],
   "source": [
    "# Training the model\n",
    "from sklearn.naive_bayes import BernoulliNB\n",
    "model_nb = BernoulliNB()\n",
    "model_nb.fit(X_train,y_train)"
   ]
  },
  {
   "cell_type": "code",
   "execution_count": 56,
   "id": "1d871f00",
   "metadata": {},
   "outputs": [],
   "source": [
    "\n",
    "# Prediction on train data\n",
    "\n",
    "train_predict_nb = model_nb.predict(X_train)\n",
    "\n",
    "\n",
    "y_predict_nb = model_nb.predict(X_test)"
   ]
  },
  {
   "cell_type": "markdown",
   "id": "a7cf0938",
   "metadata": {},
   "source": [
    "### TRAINING ACCURACY"
   ]
  },
  {
   "cell_type": "code",
   "execution_count": 57,
   "id": "364131a5",
   "metadata": {},
   "outputs": [
    {
     "name": "stdout",
     "output_type": "stream",
     "text": [
      "Training accuracy of Naive Bayes Bernoulli model 80.92513113972342\n",
      "Logistic Regression Classification report: \n",
      "               precision    recall  f1-score   support\n",
      "\n",
      "           2       0.83      0.82      0.82       705\n",
      "           3       0.70      0.77      0.73       636\n",
      "           4       0.90      0.84      0.87       756\n",
      "\n",
      "    accuracy                           0.81      2097\n",
      "   macro avg       0.81      0.81      0.81      2097\n",
      "weighted avg       0.82      0.81      0.81      2097\n",
      "\n"
     ]
    }
   ],
   "source": [
    "nb_train_accuracy = accuracy_score(train_predict_nb,y_train)\n",
    "print(\"Training accuracy of Naive Bayes Bernoulli model\",nb_train_accuracy*100)\n",
    "print(\"Logistic Regression Classification report: \\n\",classification_report(train_predict_nb,y_train))"
   ]
  },
  {
   "cell_type": "markdown",
   "id": "a055b17e",
   "metadata": {},
   "source": [
    "### TESTING ACCURACY"
   ]
  },
  {
   "cell_type": "code",
   "execution_count": 59,
   "id": "7a505e4d",
   "metadata": {},
   "outputs": [
    {
     "name": "stdout",
     "output_type": "stream",
     "text": [
      "Testing accuracy of Logistic Regression model 75.42857142857143\n",
      "Logistic Regression Classification report: \n",
      "               precision    recall  f1-score   support\n",
      "\n",
      "           2       0.77      0.79      0.78       179\n",
      "           3       0.63      0.69      0.66       158\n",
      "           4       0.86      0.77      0.81       188\n",
      "\n",
      "    accuracy                           0.75       525\n",
      "   macro avg       0.75      0.75      0.75       525\n",
      "weighted avg       0.76      0.75      0.76       525\n",
      "\n"
     ]
    }
   ],
   "source": [
    "nb_test_accuracy = accuracy_score(y_predict_nb,y_test)\n",
    "print(\"Testing accuracy of Naive Bayes Bernoulli model\",nb_test_accuracy*100)\n",
    "print(\"Logistic Regression Classification report: \\n\",classification_report(y_predict_nb,y_test))"
   ]
  },
  {
   "cell_type": "code",
   "execution_count": 58,
   "id": "b2dbc123",
   "metadata": {},
   "outputs": [
    {
     "data": {
      "text/plain": [
       "array([[142,  31,  11],\n",
       "       [ 32, 109,  32],\n",
       "       [  5,  18, 145]])"
      ]
     },
     "execution_count": 58,
     "metadata": {},
     "output_type": "execute_result"
    }
   ],
   "source": [
    "confusion_matrix(y_test,y_predict_nb)"
   ]
  },
  {
   "cell_type": "markdown",
   "id": "f8e21556",
   "metadata": {},
   "source": [
    "## 6. K-Nearest Neighbor"
   ]
  },
  {
   "cell_type": "code",
   "execution_count": 36,
   "id": "267031e2",
   "metadata": {},
   "outputs": [
    {
     "data": {
      "text/plain": [
       "KNeighborsClassifier(metric='euclidean', n_neighbors=10)"
      ]
     },
     "execution_count": 36,
     "metadata": {},
     "output_type": "execute_result"
    }
   ],
   "source": [
    "# Training the model\n",
    "from sklearn.neighbors import KNeighborsClassifier\n",
    "model_knn = KNeighborsClassifier(n_neighbors=10,metric='euclidean') # Maximum accuracy for n=10\n",
    "model_knn.fit(X_train,y_train)"
   ]
  },
  {
   "cell_type": "code",
   "execution_count": 60,
   "id": "d0da380a",
   "metadata": {},
   "outputs": [],
   "source": [
    "# Prediction on train data\n",
    "\n",
    "train_predict_knn = model_knn.predict(X_train)\n",
    "\n",
    "\n",
    "y_predict_knn = model_knn.predict(X_test)"
   ]
  },
  {
   "cell_type": "markdown",
   "id": "05e511b1",
   "metadata": {},
   "source": [
    "### TRAINING ACCURACY"
   ]
  },
  {
   "cell_type": "code",
   "execution_count": 63,
   "id": "92a55596",
   "metadata": {},
   "outputs": [
    {
     "name": "stdout",
     "output_type": "stream",
     "text": [
      "Training accuracy of K-Nearest Neighbor model 84.16785884597043\n",
      "Logistic Regression Classification report: \n",
      "               precision    recall  f1-score   support\n",
      "\n",
      "           2       0.99      0.78      0.88       876\n",
      "           3       0.54      0.99      0.70       383\n",
      "           4       0.99      0.84      0.91       838\n",
      "\n",
      "    accuracy                           0.84      2097\n",
      "   macro avg       0.84      0.87      0.83      2097\n",
      "weighted avg       0.91      0.84      0.86      2097\n",
      "\n"
     ]
    }
   ],
   "source": [
    "knn_train_accuracy = accuracy_score(train_predict_knn,y_train)\n",
    "print(\"Training accuracy of K-Nearest Neighbor model\",knn_train_accuracy*100)\n",
    "print(\"Logistic Regression Classification report: \\n\",classification_report(train_predict_knn,y_train))"
   ]
  },
  {
   "cell_type": "markdown",
   "id": "8ce1ed23",
   "metadata": {},
   "source": [
    "### TESTING ACCURACY"
   ]
  },
  {
   "cell_type": "code",
   "execution_count": 64,
   "id": "55d43b0c",
   "metadata": {},
   "outputs": [
    {
     "name": "stdout",
     "output_type": "stream",
     "text": [
      "Testing accuracy of K-Nearest Neighbor model 79.42857142857143\n",
      "Logistic Regression Classification report: \n",
      "               precision    recall  f1-score   support\n",
      "\n",
      "           2       0.99      0.76      0.86       241\n",
      "           3       0.38      1.00      0.55        66\n",
      "           4       1.00      0.77      0.87       218\n",
      "\n",
      "    accuracy                           0.79       525\n",
      "   macro avg       0.79      0.84      0.76       525\n",
      "weighted avg       0.92      0.79      0.83       525\n",
      "\n"
     ]
    }
   ],
   "source": [
    "knn_test_accuracy = accuracy_score(y_predict_knn,y_test)\n",
    "print(\"Testing accuracy of K-Nearest Neighbor model\",knn_test_accuracy*100)\n",
    "print(\"Logistic Regression Classification report: \\n\",classification_report(y_predict_knn,y_test))"
   ]
  },
  {
   "cell_type": "code",
   "execution_count": 65,
   "id": "73856f4b",
   "metadata": {},
   "outputs": [
    {
     "data": {
      "text/plain": [
       "array([[183,   0,   1],\n",
       "       [ 58,  66,  49],\n",
       "       [  0,   0, 168]])"
      ]
     },
     "execution_count": 65,
     "metadata": {},
     "output_type": "execute_result"
    }
   ],
   "source": [
    "confusion_matrix(y_test,y_predict_knn)"
   ]
  },
  {
   "cell_type": "markdown",
   "id": "8822cc83",
   "metadata": {},
   "source": [
    "**Conclusion:**\n",
    "* Support vector machine well perform on training data with accuracy 97.04% but the test score is 94.09% after applying Hyperparameter tunning score is 96.76% means model is performing well.\n",
    "\n",
    "* Logistic Regression perform well on training data with 91.17% accuracy but in testing score is decrease to 90.52%.\n",
    "\n",
    "* Random forest very well perform in training data with 100% accuracy but in testing 92.95% after doing hyperparameter tunning testing score is increase to 93.52%.\n",
    "\n",
    "* Artifical neural network[Multilayer percepton] perform very well on training data with 99.42% accuracy and testing score is 95.80%.\n",
    "\n",
    "* Training accuracy of Naive Bayes Bernoulli model 80.92% but in testing 75.42% decrease.\n",
    "\n",
    "* Training accuracy of K-Nearest Neighbor model 84.16% while it reduce in Testing accuracy of K-Nearest Neighbor model 79.42%\n",
    "\n",
    "* So we are select Artifical neuranl network [Multilayer percepton] model."
   ]
  },
  {
   "cell_type": "markdown",
   "id": "337b7f17",
   "metadata": {},
   "source": [
    "# SAVE THE MODEL"
   ]
  },
  {
   "cell_type": "code",
   "execution_count": 66,
   "id": "846d608e",
   "metadata": {},
   "outputs": [],
   "source": [
    "# saving model with the help of pickle\n",
    "import pickle\n",
    "\n",
    "file = open('mlp_classifier_model.pkl','wb')\n",
    "pickle.dump(model,file)"
   ]
  },
  {
   "cell_type": "code",
   "execution_count": null,
   "id": "c8bb7b02",
   "metadata": {},
   "outputs": [],
   "source": []
  }
 ],
 "metadata": {
  "kernelspec": {
   "display_name": "Python 3 (ipykernel)",
   "language": "python",
   "name": "python3"
  },
  "language_info": {
   "codemirror_mode": {
    "name": "ipython",
    "version": 3
   },
   "file_extension": ".py",
   "mimetype": "text/x-python",
   "name": "python",
   "nbconvert_exporter": "python",
   "pygments_lexer": "ipython3",
   "version": "3.9.7"
  }
 },
 "nbformat": 4,
 "nbformat_minor": 5
}
